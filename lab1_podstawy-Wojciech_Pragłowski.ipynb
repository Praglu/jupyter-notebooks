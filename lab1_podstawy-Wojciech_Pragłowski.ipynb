{
 "cells": [
  {
   "cell_type": "markdown",
   "metadata": {},
   "source": [
    "# Wojciech Pragłowski "
   ]
  },
  {
   "cell_type": "markdown",
   "metadata": {},
   "source": [
    "## Laboratorium 1 - podstawy"
   ]
  },
  {
   "cell_type": "markdown",
   "metadata": {},
   "source": [
    "#### Zadanie 1"
   ]
  },
  {
   "cell_type": "code",
   "execution_count": 3,
   "metadata": {},
   "outputs": [
    {
     "name": "stdout",
     "output_type": "stream",
     "text": [
      "Proszę podać pierwszą liczbę: 18\n",
      "Proszę podać drugą liczbę: 21315\n"
     ]
    },
    {
     "data": {
      "text/plain": [
       "383670"
      ]
     },
     "execution_count": 3,
     "metadata": {},
     "output_type": "execute_result"
    }
   ],
   "source": [
    "# zadanie 1\n",
    "def product():\n",
    "    number1 = int(input(\"Proszę podać pierwszą liczbę: \"))\n",
    "    number2 = int(input(\"Proszę podać drugą liczbę: \"))\n",
    "    return number1*number2\n",
    "\n",
    "product()"
   ]
  },
  {
   "cell_type": "markdown",
   "metadata": {},
   "source": [
    "#### Zadanie 2"
   ]
  },
  {
   "cell_type": "code",
   "execution_count": 5,
   "metadata": {},
   "outputs": [
    {
     "data": {
      "text/plain": [
       "'nieparzysta'"
      ]
     },
     "execution_count": 5,
     "metadata": {},
     "output_type": "execute_result"
    }
   ],
   "source": [
    "# zadanie 2\n",
    "def check_if_even(number):\n",
    "    if number % 2 == 0:\n",
    "        return \"parzysta\"\n",
    "    else:\n",
    "        return \"nieparzysta\"\n",
    "    \n",
    "check_if_even(11)"
   ]
  },
  {
   "cell_type": "markdown",
   "metadata": {},
   "source": [
    "#### Zadanie 3"
   ]
  },
  {
   "cell_type": "code",
   "execution_count": 7,
   "metadata": {},
   "outputs": [
    {
     "data": {
      "text/plain": [
       "25"
      ]
     },
     "execution_count": 7,
     "metadata": {},
     "output_type": "execute_result"
    }
   ],
   "source": [
    "# zadanie 3\n",
    "def sum_of_squares(big_number):\n",
    "    number1 = big_number - 1\n",
    "    number2 = big_number - 2\n",
    "    return ((number1**2)+(number2**2))\n",
    "\n",
    "sum_of_squares(5)"
   ]
  },
  {
   "cell_type": "markdown",
   "metadata": {},
   "source": [
    "#### Zadanie 4"
   ]
  },
  {
   "cell_type": "code",
   "execution_count": 9,
   "metadata": {},
   "outputs": [
    {
     "data": {
      "text/plain": [
       "'Nie jest pierwsza'"
      ]
     },
     "execution_count": 9,
     "metadata": {},
     "output_type": "execute_result"
    }
   ],
   "source": [
    "# zadanie 4\n",
    "def check_if_prime(number):\n",
    "    nn = 2\n",
    "    while nn-1 < number:\n",
    "        if number == 2:\n",
    "            return \"Liczba pierwsza\"\n",
    "        elif number % nn == 0:\n",
    "            return \"Nie jest pierwsza\"\n",
    "        else:\n",
    "            nn += 1\n",
    "        if number == nn:\n",
    "            return \"Liczba pierwsza\"\n",
    "        \n",
    "check_if_prime(4)"
   ]
  },
  {
   "cell_type": "markdown",
   "metadata": {},
   "source": [
    "#### Zadanie 5"
   ]
  },
  {
   "cell_type": "code",
   "execution_count": 33,
   "metadata": {},
   "outputs": [
    {
     "data": {
      "text/plain": [
       "[1, 3, 5]"
      ]
     },
     "execution_count": 33,
     "metadata": {},
     "output_type": "execute_result"
    }
   ],
   "source": [
    "# zadanie 5\n",
    "def find_dividers(number):\n",
    "    i = 1\n",
    "    dividers = []\n",
    "    while i < number:\n",
    "        if number % i == 0:\n",
    "            dividers.append(i)\n",
    "        i += 1\n",
    "    return dividers\n",
    "\n",
    "find_dividers(15)"
   ]
  },
  {
   "cell_type": "markdown",
   "metadata": {},
   "source": [
    "#### Zadanie 6"
   ]
  },
  {
   "cell_type": "code",
   "execution_count": 61,
   "metadata": {},
   "outputs": [
    {
     "data": {
      "text/plain": [
       "[2, 2, 2, 2]"
      ]
     },
     "execution_count": 61,
     "metadata": {},
     "output_type": "execute_result"
    }
   ],
   "source": [
    "# zadanie 6\n",
    "def prime_factors(number):\n",
    "    dividers = []\n",
    "    i = 2\n",
    "    while number != 1:\n",
    "        while number % i == 0:\n",
    "            number //= i\n",
    "            dividers.append(i)\n",
    "        i += 1\n",
    "    return dividers\n",
    "\n",
    "prime_factors(16)"
   ]
  },
  {
   "cell_type": "markdown",
   "metadata": {},
   "source": [
    "#### Zadanie 7"
   ]
  },
  {
   "cell_type": "code",
   "execution_count": 66,
   "metadata": {},
   "outputs": [
    {
     "data": {
      "text/plain": [
       "2"
      ]
     },
     "execution_count": 66,
     "metadata": {},
     "output_type": "execute_result"
    }
   ],
   "source": [
    "# zadanie 7\n",
    "def least_common_multiple(number1, number2):\n",
    "    i = 2\n",
    "    if number1 > number2 or number1 == number2:\n",
    "        while i <= number2:\n",
    "            if number1 % i == 0 and number2 % i == 0:\n",
    "                return i\n",
    "            else:\n",
    "                i += 1\n",
    "    else:\n",
    "        while i <= number1:\n",
    "            if number1 % i == 0 and number2 % i == 0:\n",
    "                return i\n",
    "            else:\n",
    "                i += 1\n",
    "        print(\"Nie ma wspólnego dzielnika poza 1\")\n",
    "                \n",
    "least_common_multiple(4, 10)"
   ]
  },
  {
   "cell_type": "markdown",
   "metadata": {},
   "source": [
    "#### Zadanie 8"
   ]
  },
  {
   "cell_type": "code",
   "execution_count": 68,
   "metadata": {},
   "outputs": [
    {
     "data": {
      "text/plain": [
       "'1011'"
      ]
     },
     "execution_count": 68,
     "metadata": {},
     "output_type": "execute_result"
    }
   ],
   "source": [
    "# zadanie 8\n",
    "def convert_to_binary(number):\n",
    "    binary_number = format(number, \"b\")\n",
    "    return binary_number\n",
    "\n",
    "convert_to_binary(11)"
   ]
  },
  {
   "cell_type": "markdown",
   "metadata": {},
   "source": [
    "#### Zadanie 9"
   ]
  },
  {
   "cell_type": "code",
   "execution_count": 69,
   "metadata": {},
   "outputs": [
    {
     "data": {
      "text/plain": [
       "(-3.0, 1.0)"
      ]
     },
     "execution_count": 69,
     "metadata": {},
     "output_type": "execute_result"
    }
   ],
   "source": [
    "# zadanie 9\n",
    "def trinomial(a, b, c):\n",
    "    if a == 0 and c < 0:\n",
    "        return (-c / b)\n",
    "    elif a == 0 and c > 0:\n",
    "        return (-c / b)\n",
    "    elif a != 0 and b != 0 and c != 0:\n",
    "        delta = (b**2) - (4*a*c)\n",
    "        if delta == 0:\n",
    "            return (-b / (2*a))\n",
    "        elif delta < 0:\n",
    "            return \"Równanie nie posiada rozwiązań w zbiorze liczb rzeczywistych\"\n",
    "        else:\n",
    "            x1 = (-b - (delta**0.5)) / 2*a\n",
    "            x2 = (-b + (delta**0.5)) / 2*a\n",
    "            return x1, x2\n",
    "    elif a != 0 and b == 0 and c == 0:\n",
    "        return 0\n",
    "    elif a != 0 and b != 0 and c == 0:\n",
    "        x0 = 0\n",
    "        x02 = (-b)/a\n",
    "        return x0, x02\n",
    "    elif a != 0 and b == 0 and c != 0:\n",
    "        if a*c > 0:\n",
    "            return \"Nie ma rozwiązań\"\n",
    "        else:\n",
    "            x11 = -(((-c)/a)**0.5)\n",
    "            x12 = ((-c)/a)**0.5\n",
    "            return x11, x12\n",
    "\n",
    "trinomial(1, 2, -3)"
   ]
  },
  {
   "cell_type": "markdown",
   "metadata": {},
   "source": [
    "#### Zadanie 10"
   ]
  },
  {
   "cell_type": "code",
   "execution_count": 89,
   "metadata": {},
   "outputs": [
    {
     "data": {
      "text/plain": [
       "720"
      ]
     },
     "execution_count": 89,
     "metadata": {},
     "output_type": "execute_result"
    }
   ],
   "source": [
    "# zadanie 10\n",
    "def factorial(number):\n",
    "    result = 1\n",
    "    for i in range(1, number+1):\n",
    "        result *= i\n",
    "    return result\n",
    "\n",
    "factorial(6)"
   ]
  },
  {
   "cell_type": "markdown",
   "metadata": {},
   "source": [
    "#### Zadanie 11"
   ]
  },
  {
   "cell_type": "code",
   "execution_count": 2,
   "metadata": {},
   "outputs": [
    {
     "data": {
      "text/plain": [
       "610"
      ]
     },
     "execution_count": 2,
     "metadata": {},
     "output_type": "execute_result"
    }
   ],
   "source": [
    "# zadanie 11\n",
    "def fibonacci(n):\n",
    "    if n == 0 or n == 1:\n",
    "        return n\n",
    "    else:\n",
    "        return fibonacci(n-1) + fibonacci(n-2)\n",
    "\n",
    "fibonacci(15)"
   ]
  },
  {
   "cell_type": "markdown",
   "metadata": {},
   "source": [
    "#### Zadanie 12"
   ]
  },
  {
   "cell_type": "code",
   "execution_count": 26,
   "metadata": {},
   "outputs": [
    {
     "data": {
      "text/plain": [
       "45"
      ]
     },
     "execution_count": 26,
     "metadata": {},
     "output_type": "execute_result"
    }
   ],
   "source": [
    "# zadanie 12\n",
    "def sum_of_list(lista):\n",
    "    short = sum(lista)\n",
    "#     items = 0\n",
    "#     for item in lista:\n",
    "#         items += item \n",
    "    return short\n",
    "\n",
    "tablica = [1,2,3,4,5,6,7,8,9]\n",
    "sum_of_list(tablica)"
   ]
  },
  {
   "cell_type": "markdown",
   "metadata": {},
   "source": [
    "#### Zadanie 13"
   ]
  },
  {
   "cell_type": "code",
   "execution_count": 28,
   "metadata": {},
   "outputs": [
    {
     "data": {
      "text/plain": [
       "4.5"
      ]
     },
     "execution_count": 28,
     "metadata": {},
     "output_type": "execute_result"
    }
   ],
   "source": [
    "# zadanie 13\n",
    "def avg_of_list(lista):\n",
    "    items = 0\n",
    "    for item in lista:\n",
    "        items += item\n",
    "    return items/len(lista)\n",
    "\n",
    "tablica = [5,5,4,4]\n",
    "avg_of_list(tablica)"
   ]
  },
  {
   "cell_type": "markdown",
   "metadata": {},
   "source": [
    "#### Zadanie 14"
   ]
  },
  {
   "cell_type": "code",
   "execution_count": 24,
   "metadata": {},
   "outputs": [
    {
     "data": {
      "text/plain": [
       "\"'a', 't', 'o', 'k', ' ', 'a', 'm', ' ', 'a', 'l', 'A'\""
      ]
     },
     "execution_count": 24,
     "metadata": {},
     "output_type": "execute_result"
    }
   ],
   "source": [
    "# zadanie 14\n",
    "def reversing_string(string):\n",
    "    new_list = list(string)\n",
    "    new_list.reverse()\n",
    "    new_string = str(new_list)\n",
    "    new_string_rep = new_string.replace(\"]\",\"\")\n",
    "    return new_string_rep.replace(\"[\",\"\")\n",
    "\n",
    "reversing_string(\"Ala ma kota\")"
   ]
  },
  {
   "cell_type": "markdown",
   "metadata": {},
   "source": [
    "#### Zadanie 15"
   ]
  },
  {
   "cell_type": "code",
   "execution_count": 32,
   "metadata": {},
   "outputs": [
    {
     "name": "stdout",
     "output_type": "stream",
     "text": [
      "Dużych liter: 3 Małych liter: 9\n"
     ]
    }
   ],
   "source": [
    "# zadanie 15\n",
    "def count_big_small(string):\n",
    "    counter_big = 0\n",
    "    counter_small = 0\n",
    "    for letter in string:\n",
    "        if letter.isupper():\n",
    "            counter_big += 1\n",
    "        elif letter.islower():\n",
    "            counter_small += 1\n",
    "        else:\n",
    "            continue\n",
    "    return print(\"Dużych liter:\", counter_big, \"Małych liter:\", counter_small)\n",
    "\n",
    "count_big_small(\"Ala Ma Pytonga\")"
   ]
  },
  {
   "cell_type": "markdown",
   "metadata": {},
   "source": [
    "#### Zadanie 16"
   ]
  },
  {
   "cell_type": "code",
   "execution_count": 33,
   "metadata": {},
   "outputs": [
    {
     "data": {
      "text/plain": [
       "{1, 2, 3, 4, 5, 6, 7, 8}"
      ]
     },
     "execution_count": 33,
     "metadata": {},
     "output_type": "execute_result"
    }
   ],
   "source": [
    "# zadanie 16\n",
    "def uniqe_list(lista):\n",
    "    new_set = set(lista)\n",
    "    return new_set\n",
    "\n",
    "tablica = [1, 1, 2, 2, 3, 4, 5, 5, 5, 6, 7, 8, 8]\n",
    "uniqe_list(tablica)"
   ]
  },
  {
   "cell_type": "markdown",
   "metadata": {},
   "source": [
    "#### Zadanie 17"
   ]
  },
  {
   "cell_type": "code",
   "execution_count": 20,
   "metadata": {},
   "outputs": [
    {
     "data": {
      "text/plain": [
       "{'a': 4, 'l': 1, ' ': 2, 'm': 1, 'k': 1, 'o': 1, 't': 1}"
      ]
     },
     "execution_count": 20,
     "metadata": {},
     "output_type": "execute_result"
    }
   ],
   "source": [
    "# zadanie 17\n",
    "def dict_counter(string):\n",
    "    dictionary = dict()\n",
    "    new_list = list(string)\n",
    "    for char in new_list:\n",
    "        if char in dictionary.keys():\n",
    "            dictionary[char] += 1\n",
    "        else:\n",
    "            dictionary[char] = 1\n",
    "    return dictionary\n",
    "dict_counter(\"ala ma kota\")"
   ]
  },
  {
   "cell_type": "markdown",
   "metadata": {},
   "source": [
    "#### Zadanie 18"
   ]
  },
  {
   "cell_type": "code",
   "execution_count": 58,
   "metadata": {},
   "outputs": [
    {
     "data": {
      "text/plain": [
       "['Ala', 'ma', 'pytonga', 'i', 'cztery', 'koty']"
      ]
     },
     "execution_count": 58,
     "metadata": {},
     "output_type": "execute_result"
    }
   ],
   "source": [
    "# zadanie 18\n",
    "def count_words(string):\n",
    "    new_string = string.split(\" \")\n",
    "    return new_string\n",
    "\n",
    "count_words(\"Ala ma pytonga i cztery koty\")"
   ]
  },
  {
   "cell_type": "markdown",
   "metadata": {},
   "source": [
    "#### Zadanie 19"
   ]
  },
  {
   "cell_type": "code",
   "execution_count": 21,
   "metadata": {},
   "outputs": [
    {
     "data": {
      "text/plain": [
       "'alaMaPythona'"
      ]
     },
     "execution_count": 21,
     "metadata": {},
     "output_type": "execute_result"
    }
   ],
   "source": [
    "# zadanie 19\n",
    "def camel_case(string):\n",
    "    new_string = string.split(\" \")\n",
    "    result = new_string[0] + ''.join(char.title() for char in new_string[1:])\n",
    "    return result\n",
    "\n",
    "camel_case(\"ala ma pythona\")"
   ]
  },
  {
   "cell_type": "markdown",
   "metadata": {},
   "source": [
    "#### Zadanie 20"
   ]
  },
  {
   "cell_type": "code",
   "execution_count": 22,
   "metadata": {},
   "outputs": [
    {
     "data": {
      "text/plain": [
       "'ala ma pythona'"
      ]
     },
     "execution_count": 22,
     "metadata": {},
     "output_type": "execute_result"
    }
   ],
   "source": [
    "def conv_to_norm(string):\n",
    "    result = [string[0].lower()]\n",
    "    for char in string[1:]:\n",
    "        if char in (\"ABCDEFGHIJKLMNOPQRSTUVWXYZ\"):\n",
    "            result.append(\" \")\n",
    "            result.append(char.lower())\n",
    "        else:\n",
    "            result.append(char)\n",
    "    return \"\".join(result)\n",
    "\n",
    "conv_to_norm(\"alaMaPythona\")"
   ]
  },
  {
   "cell_type": "markdown",
   "metadata": {},
   "source": [
    "#### Zadanie 21"
   ]
  },
  {
   "cell_type": "code",
   "execution_count": 71,
   "metadata": {},
   "outputs": [
    {
     "name": "stdout",
     "output_type": "stream",
     "text": [
      "Iteracja nr 1 - wynik: 7.25\n",
      "Iteracja nr 2 - wynik: 5.349137931034482\n",
      "Iteracja nr 3 - wynik: 5.011394106532552\n",
      "Iteracja nr 4 - wynik: 5.000012953048684\n",
      "Iteracja nr 5 - wynik: 5.000000000016778\n",
      "Iteracja nr 6 - wynik: 5.0\n"
     ]
    }
   ],
   "source": [
    "# zadanie 21\n",
    "def babilon_method(element, iterations):\n",
    "    trial = element/2\n",
    "    for i in range(iterations):\n",
    "        divide = element/trial\n",
    "        avg = (trial + divide) / 2\n",
    "        trial = avg\n",
    "        print(\"Iteracja nr\", i+1, \"- wynik:\", trial)\n",
    "        \n",
    "babilon_method(25, 6)"
   ]
  },
  {
   "cell_type": "markdown",
   "metadata": {},
   "source": [
    "#### Zadanie 22"
   ]
  },
  {
   "cell_type": "code",
   "execution_count": 42,
   "metadata": {},
   "outputs": [
    {
     "data": {
      "text/plain": [
       "3.142816"
      ]
     },
     "execution_count": 42,
     "metadata": {},
     "output_type": "execute_result"
    }
   ],
   "source": [
    "# zadanie 22\n",
    "import random\n",
    "def monte_carlo(number):\n",
    "    random.seed()\n",
    "    points = 0\n",
    "    for i in range(number):\n",
    "        x = random.random()\n",
    "        y = random.random()\n",
    "        if x*x + y*y <= 1:\n",
    "            points += 1\n",
    "    our_pi = 4 * points / number\n",
    "    return our_pi\n",
    "\n",
    "monte_carlo(1500000)"
   ]
  },
  {
   "cell_type": "markdown",
   "metadata": {},
   "source": [
    "#### Zadanie 23 DO POPRAWY"
   ]
  },
  {
   "cell_type": "code",
   "execution_count": 12,
   "metadata": {},
   "outputs": [
    {
     "data": {
      "text/plain": [
       "[(1, 4), (2, 5), (3, 6)]"
      ]
     },
     "execution_count": 12,
     "metadata": {},
     "output_type": "execute_result"
    }
   ],
   "source": [
    "# zadanie 23\n",
    "def combine_lists(list1, list2):\n",
    "    result1 = (list1[0], list2[0])\n",
    "    result2 = (list1[1], list2[1])\n",
    "    result3 = (list1[2], list2[2])\n",
    "    result = [result1, result2, result3]\n",
    "    return result\n",
    "\n",
    "a = [1, 2, 3]\n",
    "b = [4, 5, 6]\n",
    "combine_lists(a, b)"
   ]
  },
  {
   "cell_type": "markdown",
   "metadata": {},
   "source": [
    "#### Zadanie 24"
   ]
  },
  {
   "cell_type": "code",
   "execution_count": 74,
   "metadata": {},
   "outputs": [
    {
     "data": {
      "text/plain": [
       "[3,\n",
       " 6,\n",
       " 9,\n",
       " 12,\n",
       " 18,\n",
       " 21,\n",
       " 24,\n",
       " 27,\n",
       " 33,\n",
       " 36,\n",
       " 39,\n",
       " 42,\n",
       " 48,\n",
       " 51,\n",
       " 54,\n",
       " 57,\n",
       " 63,\n",
       " 66,\n",
       " 69,\n",
       " 72,\n",
       " 78,\n",
       " 81,\n",
       " 84,\n",
       " 87,\n",
       " 93,\n",
       " 96,\n",
       " 99]"
      ]
     },
     "execution_count": 74,
     "metadata": {},
     "output_type": "execute_result"
    }
   ],
   "source": [
    "# zaadanie 24\n",
    "def divide_and_not(number):\n",
    "    new_list = []\n",
    "    i = 3\n",
    "    for i in range(number):\n",
    "        if i % 3 == 0 and i % 5 != 0:\n",
    "            new_list.append(i)\n",
    "    return new_list\n",
    "\n",
    "divide_and_not(100)"
   ]
  }
 ],
 "metadata": {
  "kernelspec": {
   "display_name": "Python 3",
   "language": "python",
   "name": "python3"
  },
  "language_info": {
   "codemirror_mode": {
    "name": "ipython",
    "version": 3
   },
   "file_extension": ".py",
   "mimetype": "text/x-python",
   "name": "python",
   "nbconvert_exporter": "python",
   "pygments_lexer": "ipython3",
   "version": "3.8.5"
  }
 },
 "nbformat": 4,
 "nbformat_minor": 4
}
