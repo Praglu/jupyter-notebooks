{
 "cells": [
  {
   "cell_type": "markdown",
   "metadata": {},
   "source": [
    "# Wojciech Pragłowski"
   ]
  },
  {
   "cell_type": "markdown",
   "metadata": {},
   "source": [
    "## Laboratorium 11 - klasyfikacja"
   ]
  },
  {
   "cell_type": "markdown",
   "metadata": {},
   "source": [
    "### Zadanie 1"
   ]
  },
  {
   "cell_type": "markdown",
   "metadata": {},
   "source": [
    "#### A"
   ]
  },
  {
   "cell_type": "code",
   "execution_count": 1,
   "metadata": {},
   "outputs": [
    {
     "data": {
      "text/html": [
       "<div>\n",
       "<style scoped>\n",
       "    .dataframe tbody tr th:only-of-type {\n",
       "        vertical-align: middle;\n",
       "    }\n",
       "\n",
       "    .dataframe tbody tr th {\n",
       "        vertical-align: top;\n",
       "    }\n",
       "\n",
       "    .dataframe thead th {\n",
       "        text-align: right;\n",
       "    }\n",
       "</style>\n",
       "<table border=\"1\" class=\"dataframe\">\n",
       "  <thead>\n",
       "    <tr style=\"text-align: right;\">\n",
       "      <th></th>\n",
       "      <th>Height</th>\n",
       "      <th>Weight</th>\n",
       "      <th>Class</th>\n",
       "    </tr>\n",
       "  </thead>\n",
       "  <tbody>\n",
       "    <tr>\n",
       "      <th>0</th>\n",
       "      <td>165</td>\n",
       "      <td>60</td>\n",
       "      <td>Male</td>\n",
       "    </tr>\n",
       "    <tr>\n",
       "      <th>1</th>\n",
       "      <td>168</td>\n",
       "      <td>65</td>\n",
       "      <td>Male</td>\n",
       "    </tr>\n",
       "    <tr>\n",
       "      <th>2</th>\n",
       "      <td>168</td>\n",
       "      <td>64</td>\n",
       "      <td>Male</td>\n",
       "    </tr>\n",
       "    <tr>\n",
       "      <th>3</th>\n",
       "      <td>170</td>\n",
       "      <td>67</td>\n",
       "      <td>Male</td>\n",
       "    </tr>\n",
       "    <tr>\n",
       "      <th>4</th>\n",
       "      <td>170</td>\n",
       "      <td>70</td>\n",
       "      <td>Male</td>\n",
       "    </tr>\n",
       "    <tr>\n",
       "      <th>5</th>\n",
       "      <td>173</td>\n",
       "      <td>67</td>\n",
       "      <td>Male</td>\n",
       "    </tr>\n",
       "    <tr>\n",
       "      <th>6</th>\n",
       "      <td>173</td>\n",
       "      <td>75</td>\n",
       "      <td>Male</td>\n",
       "    </tr>\n",
       "    <tr>\n",
       "      <th>7</th>\n",
       "      <td>178</td>\n",
       "      <td>77</td>\n",
       "      <td>Male</td>\n",
       "    </tr>\n",
       "    <tr>\n",
       "      <th>8</th>\n",
       "      <td>178</td>\n",
       "      <td>80</td>\n",
       "      <td>Male</td>\n",
       "    </tr>\n",
       "    <tr>\n",
       "      <th>9</th>\n",
       "      <td>180</td>\n",
       "      <td>82</td>\n",
       "      <td>Male</td>\n",
       "    </tr>\n",
       "    <tr>\n",
       "      <th>10</th>\n",
       "      <td>180</td>\n",
       "      <td>86</td>\n",
       "      <td>Male</td>\n",
       "    </tr>\n",
       "    <tr>\n",
       "      <th>11</th>\n",
       "      <td>180</td>\n",
       "      <td>75</td>\n",
       "      <td>Male</td>\n",
       "    </tr>\n",
       "    <tr>\n",
       "      <th>12</th>\n",
       "      <td>183</td>\n",
       "      <td>78</td>\n",
       "      <td>Male</td>\n",
       "    </tr>\n",
       "    <tr>\n",
       "      <th>13</th>\n",
       "      <td>183</td>\n",
       "      <td>86</td>\n",
       "      <td>Male</td>\n",
       "    </tr>\n",
       "    <tr>\n",
       "      <th>14</th>\n",
       "      <td>188</td>\n",
       "      <td>79</td>\n",
       "      <td>Male</td>\n",
       "    </tr>\n",
       "    <tr>\n",
       "      <th>15</th>\n",
       "      <td>188</td>\n",
       "      <td>90</td>\n",
       "      <td>Male</td>\n",
       "    </tr>\n",
       "    <tr>\n",
       "      <th>16</th>\n",
       "      <td>191</td>\n",
       "      <td>92</td>\n",
       "      <td>Male</td>\n",
       "    </tr>\n",
       "    <tr>\n",
       "      <th>17</th>\n",
       "      <td>191</td>\n",
       "      <td>87</td>\n",
       "      <td>Male</td>\n",
       "    </tr>\n",
       "    <tr>\n",
       "      <th>18</th>\n",
       "      <td>195</td>\n",
       "      <td>100</td>\n",
       "      <td>Male</td>\n",
       "    </tr>\n",
       "    <tr>\n",
       "      <th>19</th>\n",
       "      <td>195</td>\n",
       "      <td>91</td>\n",
       "      <td>Male</td>\n",
       "    </tr>\n",
       "    <tr>\n",
       "      <th>20</th>\n",
       "      <td>195</td>\n",
       "      <td>97</td>\n",
       "      <td>Male</td>\n",
       "    </tr>\n",
       "    <tr>\n",
       "      <th>21</th>\n",
       "      <td>198</td>\n",
       "      <td>101</td>\n",
       "      <td>Male</td>\n",
       "    </tr>\n",
       "    <tr>\n",
       "      <th>22</th>\n",
       "      <td>150</td>\n",
       "      <td>42</td>\n",
       "      <td>Female</td>\n",
       "    </tr>\n",
       "    <tr>\n",
       "      <th>23</th>\n",
       "      <td>152</td>\n",
       "      <td>41</td>\n",
       "      <td>Female</td>\n",
       "    </tr>\n",
       "    <tr>\n",
       "      <th>24</th>\n",
       "      <td>152</td>\n",
       "      <td>45</td>\n",
       "      <td>Female</td>\n",
       "    </tr>\n",
       "    <tr>\n",
       "      <th>25</th>\n",
       "      <td>155</td>\n",
       "      <td>47</td>\n",
       "      <td>Female</td>\n",
       "    </tr>\n",
       "    <tr>\n",
       "      <th>26</th>\n",
       "      <td>157</td>\n",
       "      <td>48</td>\n",
       "      <td>Female</td>\n",
       "    </tr>\n",
       "    <tr>\n",
       "      <th>27</th>\n",
       "      <td>160</td>\n",
       "      <td>52</td>\n",
       "      <td>Female</td>\n",
       "    </tr>\n",
       "    <tr>\n",
       "      <th>28</th>\n",
       "      <td>160</td>\n",
       "      <td>49</td>\n",
       "      <td>Female</td>\n",
       "    </tr>\n",
       "    <tr>\n",
       "      <th>29</th>\n",
       "      <td>163</td>\n",
       "      <td>53</td>\n",
       "      <td>Female</td>\n",
       "    </tr>\n",
       "    <tr>\n",
       "      <th>30</th>\n",
       "      <td>163</td>\n",
       "      <td>58</td>\n",
       "      <td>Female</td>\n",
       "    </tr>\n",
       "    <tr>\n",
       "      <th>31</th>\n",
       "      <td>168</td>\n",
       "      <td>55</td>\n",
       "      <td>Female</td>\n",
       "    </tr>\n",
       "    <tr>\n",
       "      <th>32</th>\n",
       "      <td>168</td>\n",
       "      <td>58</td>\n",
       "      <td>Female</td>\n",
       "    </tr>\n",
       "    <tr>\n",
       "      <th>33</th>\n",
       "      <td>170</td>\n",
       "      <td>63</td>\n",
       "      <td>Female</td>\n",
       "    </tr>\n",
       "    <tr>\n",
       "      <th>34</th>\n",
       "      <td>173</td>\n",
       "      <td>64</td>\n",
       "      <td>Female</td>\n",
       "    </tr>\n",
       "    <tr>\n",
       "      <th>35</th>\n",
       "      <td>173</td>\n",
       "      <td>68</td>\n",
       "      <td>Female</td>\n",
       "    </tr>\n",
       "    <tr>\n",
       "      <th>36</th>\n",
       "      <td>175</td>\n",
       "      <td>61</td>\n",
       "      <td>Female</td>\n",
       "    </tr>\n",
       "    <tr>\n",
       "      <th>37</th>\n",
       "      <td>175</td>\n",
       "      <td>68</td>\n",
       "      <td>Female</td>\n",
       "    </tr>\n",
       "    <tr>\n",
       "      <th>38</th>\n",
       "      <td>178</td>\n",
       "      <td>65</td>\n",
       "      <td>Female</td>\n",
       "    </tr>\n",
       "    <tr>\n",
       "      <th>39</th>\n",
       "      <td>178</td>\n",
       "      <td>70</td>\n",
       "      <td>Female</td>\n",
       "    </tr>\n",
       "    <tr>\n",
       "      <th>40</th>\n",
       "      <td>180</td>\n",
       "      <td>67</td>\n",
       "      <td>Female</td>\n",
       "    </tr>\n",
       "    <tr>\n",
       "      <th>41</th>\n",
       "      <td>180</td>\n",
       "      <td>77</td>\n",
       "      <td>Female</td>\n",
       "    </tr>\n",
       "    <tr>\n",
       "      <th>42</th>\n",
       "      <td>183</td>\n",
       "      <td>67</td>\n",
       "      <td>Female</td>\n",
       "    </tr>\n",
       "    <tr>\n",
       "      <th>43</th>\n",
       "      <td>183</td>\n",
       "      <td>78</td>\n",
       "      <td>Female</td>\n",
       "    </tr>\n",
       "  </tbody>\n",
       "</table>\n",
       "</div>"
      ],
      "text/plain": [
       "    Height  Weight   Class\n",
       "0      165      60    Male\n",
       "1      168      65    Male\n",
       "2      168      64    Male\n",
       "3      170      67    Male\n",
       "4      170      70    Male\n",
       "5      173      67    Male\n",
       "6      173      75    Male\n",
       "7      178      77    Male\n",
       "8      178      80    Male\n",
       "9      180      82    Male\n",
       "10     180      86    Male\n",
       "11     180      75    Male\n",
       "12     183      78    Male\n",
       "13     183      86    Male\n",
       "14     188      79    Male\n",
       "15     188      90    Male\n",
       "16     191      92    Male\n",
       "17     191      87    Male\n",
       "18     195     100    Male\n",
       "19     195      91    Male\n",
       "20     195      97    Male\n",
       "21     198     101    Male\n",
       "22     150      42  Female\n",
       "23     152      41  Female\n",
       "24     152      45  Female\n",
       "25     155      47  Female\n",
       "26     157      48  Female\n",
       "27     160      52  Female\n",
       "28     160      49  Female\n",
       "29     163      53  Female\n",
       "30     163      58  Female\n",
       "31     168      55  Female\n",
       "32     168      58  Female\n",
       "33     170      63  Female\n",
       "34     173      64  Female\n",
       "35     173      68  Female\n",
       "36     175      61  Female\n",
       "37     175      68  Female\n",
       "38     178      65  Female\n",
       "39     178      70  Female\n",
       "40     180      67  Female\n",
       "41     180      77  Female\n",
       "42     183      67  Female\n",
       "43     183      78  Female"
      ]
     },
     "execution_count": 1,
     "metadata": {},
     "output_type": "execute_result"
    }
   ],
   "source": [
    "import matplotlib.pyplot as plt\n",
    "import numpy as np\n",
    "import pandas as pd\n",
    "\n",
    "male=[(165, 60), (168, 65), (168, 64), (170, 67), (170, 70), (173, 67), \n",
    "      (173, 75), (178, 77), (178, 80), (180, 82), (180, 86), (180, 75), \n",
    "      (183, 78), (183, 86), (188, 79), (188, 90), (191, 92), (191, 87), \n",
    "      (195, 100), (195, 91), (195, 97), (198, 101)]\n",
    "\n",
    "female=[(150, 42), (152, 41), (152, 45), (155, 47), (157, 48), (160, 52), \n",
    "        (160, 49), (163, 53), (163, 58), (168, 55), (168, 58), (170, 63), \n",
    "        (173, 64), (173, 68), (175, 61), (175, 68), (178, 65), (178, 70), \n",
    "        (180, 67), (180, 77), (183, 67), (183, 78)]\n",
    "\n",
    "all_people = male+female\n",
    "kolumny = ['Height', 'Weight']\n",
    "\n",
    "people = pd.DataFrame(all_people, columns=kolumny)\n",
    "\n",
    "mm = ['Male' for i in range(22)]\n",
    "ff = ['Female' for i in range(22)]\n",
    "\n",
    "class_names = mm+ff\n",
    "people['Class'] = class_names\n",
    "\n",
    "people"
   ]
  },
  {
   "cell_type": "code",
   "execution_count": 2,
   "metadata": {},
   "outputs": [
    {
     "data": {
      "image/png": "[encoded data removed]",
      "text/plain": [
       "<Figure size 432x288 with 1 Axes>"
      ]
     },
     "metadata": {
      "needs_background": "light"
     },
     "output_type": "display_data"
    }
   ],
   "source": [
    "plt.plot(people.Height[people.Class == 'Male'], people.Weight[people.Class == 'Male'], 'ro', label='Male')\n",
    "plt.plot(people.Height[people.Class == 'Female'], people.Weight[people.Class == 'Female'], 'bo', label='Female')\n",
    "plt.xlabel('Height')\n",
    "plt.ylabel('Weight')\n",
    "plt.legend(loc = 'best')\n",
    "plt.grid()\n",
    "plt.show()"
   ]
  },
  {
   "cell_type": "markdown",
   "metadata": {},
   "source": [
    "#### B - naive Bayes"
   ]
  },
  {
   "cell_type": "code",
   "execution_count": 3,
   "metadata": {},
   "outputs": [
    {
     "data": {
      "text/plain": [
       "array(['Female', 'Male', 'Male', 'Male', 'Female', 'Female', 'Male',\n",
       "       'Male', 'Female'], dtype='<U6')"
      ]
     },
     "execution_count": 3,
     "metadata": {},
     "output_type": "execute_result"
    }
   ],
   "source": [
    "from sklearn.model_selection import train_test_split\n",
    "from sklearn.preprocessing import StandardScaler\n",
    "from sklearn.naive_bayes import GaussianNB\n",
    "\n",
    "X = people.iloc[:, :-1].values\n",
    "Y = people.iloc[:, 2].values\n",
    "\n",
    "X_train, X_test, Y_train, Y_test = train_test_split(X, Y, test_size=0.2)\n",
    "\n",
    "scaler = StandardScaler()\n",
    "scaler.fit(X_train)\n",
    "\n",
    "X_train = scaler.transform(X_train)\n",
    "X_test = scaler.transform(X_test)\n",
    "\n",
    "classifier = GaussianNB()\n",
    "classifier.fit(X_train, Y_train)\n",
    "\n",
    "Y_pred = classifier.predict(X_test)\n",
    "Y_pred"
   ]
  },
  {
   "cell_type": "code",
   "execution_count": 6,
   "metadata": {},
   "outputs": [
    {
     "name": "stdout",
     "output_type": "stream",
     "text": [
      "\n",
      "Class:  Female \n",
      "Prediciton:  Female\n",
      "\n",
      "Class:  Male \n",
      "Prediciton:  Male\n",
      "\n",
      "Class:  Male \n",
      "Prediciton:  Male\n",
      "\n",
      "Class:  Male \n",
      "Prediciton:  Male\n",
      "\n",
      "Class:  Male \n",
      "Prediciton:  Female\n",
      "\n",
      "Class:  Female \n",
      "Prediciton:  Female\n",
      "\n",
      "Class:  Male \n",
      "Prediciton:  Male\n",
      "\n",
      "Class:  Male \n",
      "Prediciton:  Male\n",
      "\n",
      "Class:  Female \n",
      "Prediciton:  Female\n",
      "\n",
      "Error:  0.1111111111111111\n"
     ]
    }
   ],
   "source": [
    "for i,j in zip(Y_test, Y_pred):\n",
    "    print('\\nClass: ', i, '\\nPrediciton: ', j)\n",
    "    \n",
    "print('\\nError: ', np.mean(Y_pred != Y_test))"
   ]
  },
  {
   "cell_type": "markdown",
   "metadata": {},
   "source": [
    "#### B - KNN"
   ]
  },
  {
   "cell_type": "code",
   "execution_count": 7,
   "metadata": {},
   "outputs": [
    {
     "data": {
      "text/plain": [
       "array(['Female', 'Male', 'Male', 'Male', 'Male', 'Male', 'Male', 'Male',\n",
       "       'Female'], dtype=object)"
      ]
     },
     "execution_count": 7,
     "metadata": {},
     "output_type": "execute_result"
    }
   ],
   "source": [
    "from sklearn.neighbors import KNeighborsClassifier\n",
    "\n",
    "classifier = KNeighborsClassifier(n_neighbors=5)\n",
    "classifier.fit(X_train, Y_train)\n",
    "\n",
    "Y_pred = classifier.predict(X_test)\n",
    "Y_pred"
   ]
  },
  {
   "cell_type": "code",
   "execution_count": 8,
   "metadata": {},
   "outputs": [
    {
     "name": "stdout",
     "output_type": "stream",
     "text": [
      "\n",
      "Class:  Female \n",
      "Prediciton:  Female\n",
      "\n",
      "Class:  Male \n",
      "Prediciton:  Male\n",
      "\n",
      "Class:  Male \n",
      "Prediciton:  Male\n",
      "\n",
      "Class:  Male \n",
      "Prediciton:  Male\n",
      "\n",
      "Class:  Male \n",
      "Prediciton:  Male\n",
      "\n",
      "Class:  Female \n",
      "Prediciton:  Male\n",
      "\n",
      "Class:  Male \n",
      "Prediciton:  Male\n",
      "\n",
      "Class:  Male \n",
      "Prediciton:  Male\n",
      "\n",
      "Class:  Female \n",
      "Prediciton:  Female\n",
      "\n",
      "Error:  0.1111111111111111\n"
     ]
    }
   ],
   "source": [
    "for i,j in zip(Y_test, Y_pred):\n",
    "    print('\\nClass: ', i, '\\nPrediciton: ', j)\n",
    "    \n",
    "print('\\nError: ', np.mean(Y_pred != Y_test))"
   ]
  },
  {
   "cell_type": "code",
   "execution_count": 9,
   "metadata": {},
   "outputs": [
    {
     "data": {
      "text/plain": [
       "Text(0, 0.5, 'Mean error')"
      ]
     },
     "execution_count": 9,
     "metadata": {},
     "output_type": "execute_result"
    },
    {
     "data": {
      "image/png": "[encoded data removed]",
      "text/plain": [
       "<Figure size 864x432 with 1 Axes>"
      ]
     },
     "metadata": {
      "needs_background": "light"
     },
     "output_type": "display_data"
    }
   ],
   "source": [
    "error = []\n",
    "\n",
    "for i in range(1, 30):\n",
    "    knn = KNeighborsClassifier(n_neighbors=i)\n",
    "    knn.fit(X_train, Y_train)\n",
    "    pred_i = knn.predict(X_test)\n",
    "    error.append(np.mean(pred_i != Y_test))\n",
    "    \n",
    "plt.figure(figsize=(12,6))\n",
    "plt.plot(range(1, 30), error, '-ok')\n",
    "plt.xlabel('K-value', fontsize=15)\n",
    "plt.ylabel('Mean error', fontsize=15)"
   ]
  },
  {
   "cell_type": "markdown",
   "metadata": {},
   "source": [
    "### Zadanie 2"
   ]
  },
  {
   "cell_type": "markdown",
   "metadata": {},
   "source": [
    "#### A"
   ]
  },
  {
   "cell_type": "code",
   "execution_count": 10,
   "metadata": {},
   "outputs": [
    {
     "name": "stderr",
     "output_type": "stream",
     "text": [
      "D:\\Anaconda\\lib\\site-packages\\sklearn\\utils\\deprecation.py:143: FutureWarning: The sklearn.datasets.samples_generator module is  deprecated in version 0.22 and will be removed in version 0.24. The corresponding classes / functions should instead be imported from sklearn.datasets. Anything that cannot be imported from sklearn.datasets is now part of the private API.\n",
      "  warnings.warn(message, FutureWarning)\n"
     ]
    },
    {
     "data": {
      "text/plain": [
       "<matplotlib.collections.PathCollection at 0x1b73cedef70>"
      ]
     },
     "execution_count": 10,
     "metadata": {},
     "output_type": "execute_result"
    },
    {
     "data": {
      "image/png": "[encoded data removed]",
      "text/plain": [
       "<Figure size 432x288 with 1 Axes>"
      ]
     },
     "metadata": {
      "needs_background": "light"
     },
     "output_type": "display_data"
    }
   ],
   "source": [
    "from sklearn.datasets.samples_generator import make_blobs\n",
    "from sklearn.cluster import KMeans\n",
    "\n",
    "X, y_true = make_blobs(n_samples=1000, centers=3, cluster_std=0.99, random_state=3042019)\n",
    "\n",
    "df = pd.DataFrame(X, columns = ['f1', 'f2'])\n",
    "\n",
    "plt.scatter(X[:,0], X[:,1])"
   ]
  },
  {
   "cell_type": "markdown",
   "metadata": {},
   "source": [
    "#### B"
   ]
  },
  {
   "cell_type": "code",
   "execution_count": 11,
   "metadata": {},
   "outputs": [
    {
     "data": {
      "image/png": "[encoded data removed]",
      "text/plain": [
       "<Figure size 432x288 with 1 Axes>"
      ]
     },
     "metadata": {
      "needs_background": "light"
     },
     "output_type": "display_data"
    }
   ],
   "source": [
    "k_means = KMeans(n_clusters=3, max_iter=1000, n_init=10, random_state=3042019)\n",
    "pred_y = k_means.fit_predict(X)\n",
    "plt.scatter(X[:,0], X[:,1])\n",
    "plt.scatter(k_means.cluster_centers_[:,0], k_means.cluster_centers_[:, 1], s=1000, c='red')\n",
    "plt.show()"
   ]
  },
  {
   "cell_type": "markdown",
   "metadata": {},
   "source": [
    "### Zadanie 3"
   ]
  },
  {
   "cell_type": "markdown",
   "metadata": {},
   "source": [
    "#### Klasyfikator KNN z odległością Minkowskiego i metodą klasteringu"
   ]
  },
  {
   "cell_type": "code",
   "execution_count": 12,
   "metadata": {},
   "outputs": [],
   "source": [
    "class KNN:\n",
    "    def minkowski(v1, v2, m):\n",
    "        distance = 0\n",
    "        for i in range(len(v1)-1):\n",
    "            distance+= abs(v2[i] - v1[i])**m\n",
    "            distance = distance**(1/m)\n",
    "        return distance\n",
    "    \n",
    "    def clustering(testSample, X, k, classes, m):\n",
    "        #obliczenie odległosći\n",
    "        distances = []\n",
    "        for i in range(len(X)):\n",
    "            distances.append(KNN.minkowski(testSample, X.iloc[i], m))\n",
    "            \n",
    "        #posortowanie\n",
    "        distances = sorted(distances)\n",
    "        \n",
    "        #głosowanie\n",
    "        for i in range(0, k-1, 1):\n",
    "            classes[X.iloc[i].Class]+1\n",
    "        #zwrócenie wyniku\n",
    "        return max(classes, key = classes.get)"
   ]
  },
  {
   "cell_type": "code",
   "execution_count": 13,
   "metadata": {},
   "outputs": [
    {
     "name": "stdout",
     "output_type": "stream",
     "text": [
      "    Height  Weight   Class\n",
      "35     180      77  Female\n",
      "36     155      47  Female\n",
      "37     180      82    Male\n",
      "38     180      86    Male\n",
      "39     170      67    Male\n",
      "40     173      75    Male\n",
      "41     173      67    Male\n",
      "42     165      60    Male\n",
      "43     173      64  Female\n"
     ]
    }
   ],
   "source": [
    "import random\n",
    "\n",
    "# pomieszanie zbioru danych\n",
    "def shuffle(X):\n",
    "    for i in range(len(X)-1, 0, -1):\n",
    "        j = random.randint(0, i)\n",
    "        X.iloc[i], X.iloc[j] = X.iloc[j], X.iloc[i]\n",
    "    return X\n",
    "\n",
    "# podział zbioru na 80/20\n",
    "def split_set(X):\n",
    "    split = int(len(X)*0.8)\n",
    "    train = X[:split]\n",
    "    test = X[split:]\n",
    "    return [train, test]\n",
    "\n",
    "people_mixed = shuffle(people)\n",
    "people_train, people_test = split_set(people_mixed)\n",
    "\n",
    "print(people_test)"
   ]
  },
  {
   "cell_type": "code",
   "execution_count": 14,
   "metadata": {},
   "outputs": [
    {
     "name": "stdout",
     "output_type": "stream",
     "text": [
      "Accuracy:  66.67 %\n"
     ]
    }
   ],
   "source": [
    "classes = {'Male':0, 'Female':0}\n",
    "corrected = 0\n",
    "m = 10\n",
    "k = 30\n",
    "\n",
    "# sprawdzenie czy wynik zgadza się z daną klasą\n",
    "for i in range(len(people_test)):\n",
    "    if KNN.clustering(people_test.iloc[i], people_train, k, classes, m) == people_test.iloc[i].Class:\n",
    "        corrected += 1\n",
    "accuracy = corrected/len(people_test)*100\n",
    "print('Accuracy: ', round(accuracy, 2),'%')"
   ]
  }
 ],
 "metadata": {
  "kernelspec": {
   "display_name": "Python 3",
   "language": "python",
   "name": "python3"
  },
  "language_info": {
   "codemirror_mode": {
    "name": "ipython",
    "version": 3
   },
   "file_extension": ".py",
   "mimetype": "text/x-python",
   "name": "python",
   "nbconvert_exporter": "python",
   "pygments_lexer": "ipython3",
   "version": "3.8.5"
  }
 },
 "nbformat": 4,
 "nbformat_minor": 4
}
