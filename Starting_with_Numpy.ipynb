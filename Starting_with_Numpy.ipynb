{
 "cells": [
  {
   "cell_type": "markdown",
   "metadata": {},
   "source": [
    "# Wojciech Pragłowski"
   ]
  },
  {
   "cell_type": "markdown",
   "metadata": {},
   "source": [
    "## Numpy basics"
   ]
  },
  {
   "cell_type": "markdown",
   "metadata": {},
   "source": [
    "Guidlines:\n",
    "1. Write a function that will check whether the given matrix contains a given value.\n",
    "1. Write a function that will return the mean, median, and mode (mode).\n",
    "1. Write a function that will generate a matrix of given sizes with the same numerical value.\n",
    "1. Write a function that changes all negative values in the matrix to 0.\n",
    "1. Write a function that will check if the given matrix X with size 2x2 is a solution of the matrix equation ax^2 + bx + c = 0, where a, b, c are given numerical values.\n",
    "1. Write a function that will calculate the nth Fibonacci number using matrix exponentiation [[1,1],[1,0]] (https://pl.wikipedia.org/wiki/Ci%C4%85g_Fibonacciego#Macierze_liczb_Fibonacciego).\n",
    "1. Write a function that will calculate the nth Fibonacci number using the Binet formula (https://pl.wikipedia.org/wiki/Ci%C4%85g_Fibonacciego#Wz%C3%B3r_Bineta).\n",
    "1. Write a function that will generate a matrix with random elements (integers from a given range) with a predetermined value of the matrix trace.\n",
    "1. Write a function that will generate a matrix with random elements (integers from a given range) with predetermined eigenvalues. Possible to use Cayley-Hamilton."
   ]
  },
  {
   "cell_type": "code",
   "execution_count": 1,
   "metadata": {},
   "outputs": [],
   "source": [
    "import numpy as np"
   ]
  },
  {
   "cell_type": "markdown",
   "metadata": {},
   "source": [
    "#### Exercise 1"
   ]
  },
  {
   "cell_type": "code",
   "execution_count": 3,
   "metadata": {},
   "outputs": [
    {
     "name": "stdout",
     "output_type": "stream",
     "text": [
      "[[False False  True]\n",
      " [False False False]]\n"
     ]
    }
   ],
   "source": [
    "def find_value(value, given_array):\n",
    "    check = np.isin(given_array, value)\n",
    "    print(check)\n",
    "    \n",
    "arr = np.arange(6).reshape((2,3))\n",
    "find_value(2, arr)"
   ]
  },
  {
   "cell_type": "markdown",
   "metadata": {},
   "source": [
    "#### Exercise 2"
   ]
  },
  {
   "cell_type": "code",
   "execution_count": 14,
   "metadata": {},
   "outputs": [
    {
     "name": "stdout",
     "output_type": "stream",
     "text": [
      "Średnia: 2.5555555555555554 \n",
      "Mediana:  2.0 \n",
      "Dominanta:  5\n"
     ]
    }
   ],
   "source": [
    "def maths_returning(given_array):\n",
    "    values, counts = np.unique(given_array, return_counts = True)\n",
    "    index = np.argmax(counts)\n",
    "    print(\"Średnia:\", np.mean(given_array),\"\\nMediana: \", np.median(given_array), \"\\nDominanta: \", values[index])\n",
    "    \n",
    "arr = np.array([[1,2,5],[2,5,5],[9,-1,-5]])\n",
    "arr2 = np.arange(9).reshape(3,3)\n",
    "maths_returning(arr)"
   ]
  },
  {
   "cell_type": "markdown",
   "metadata": {},
   "source": [
    "#### Exercise 3"
   ]
  },
  {
   "cell_type": "code",
   "execution_count": 20,
   "metadata": {},
   "outputs": [
    {
     "data": {
      "text/plain": [
       "array([[6, 6, 6, 6, 6, 6, 6],\n",
       "       [6, 6, 6, 6, 6, 6, 6],\n",
       "       [6, 6, 6, 6, 6, 6, 6],\n",
       "       [6, 6, 6, 6, 6, 6, 6],\n",
       "       [6, 6, 6, 6, 6, 6, 6]])"
      ]
     },
     "execution_count": 20,
     "metadata": {},
     "output_type": "execute_result"
    }
   ],
   "source": [
    "def generate_array(height,width, value):\n",
    "    new_array = np.empty(shape=(height,width), dtype=int)\n",
    "    for i in range(height):\n",
    "        for j in range(width):    \n",
    "            new_array[i] = value\n",
    "    return new_array\n",
    "\n",
    "generate_array(5, 7, 6)"
   ]
  },
  {
   "cell_type": "markdown",
   "metadata": {},
   "source": [
    "#### Exercise 4"
   ]
  },
  {
   "cell_type": "code",
   "execution_count": 27,
   "metadata": {},
   "outputs": [
    {
     "data": {
      "text/plain": [
       "array([[1, 2, 3],\n",
       "       [0, 0, 0],\n",
       "       [1, 0, 3]])"
      ]
     },
     "execution_count": 27,
     "metadata": {},
     "output_type": "execute_result"
    }
   ],
   "source": [
    "def change_negative(given_array):\n",
    "    new_array = np.where(given_array<0, 0, given_array)\n",
    "    return new_array\n",
    "\n",
    "arr = np.array([[1,2,3], [-1,-2,-3], [1,-2,3]])\n",
    "change_negative(arr)"
   ]
  },
  {
   "cell_type": "markdown",
   "metadata": {},
   "source": [
    "#### Exercise 5"
   ]
  },
  {
   "cell_type": "code",
   "execution_count": 39,
   "metadata": {},
   "outputs": [
    {
     "name": "stdout",
     "output_type": "stream",
     "text": [
      "Podana macierz JEST rozwiązaniem równania!\n",
      " [[0 0]\n",
      " [0 0]]\n"
     ]
    }
   ],
   "source": [
    "def check_equation(given_array, a, b, c):\n",
    "    result = (a*given_array**2) + b*given_array + c\n",
    "    if np.mean(result) == 0:\n",
    "        return print(\"Podana macierz JEST rozwiązaniem równania!\\n\", result)\n",
    "    else:\n",
    "        return print(\"Niestety podana macierz nie rozwiązuje powyższego równania...\\n\", result)\n",
    "\n",
    "arr = np.array([[1,1], [1,1]])\n",
    "check_equation(arr, 1, -1, 0)"
   ]
  },
  {
   "cell_type": "markdown",
   "metadata": {},
   "source": [
    "#### Exercise 6"
   ]
  },
  {
   "cell_type": "code",
   "execution_count": 12,
   "metadata": {},
   "outputs": [
    {
     "data": {
      "text/plain": [
       "610"
      ]
     },
     "execution_count": 12,
     "metadata": {},
     "output_type": "execute_result"
    }
   ],
   "source": [
    "def array_fibonacci(n):\n",
    "    begin_array = np.array([[1, 1], [1, 0]])\n",
    "    values, vectors = np.linalg.eig(begin_array)\n",
    "    Fn = vectors @ np.diag(values ** n) @ vectors.T\n",
    "    return int(np.rint(Fn[0, 1]))\n",
    "\n",
    "array_fibonacci(15)"
   ]
  },
  {
   "cell_type": "markdown",
   "metadata": {},
   "source": [
    "#### Exercise 7"
   ]
  },
  {
   "cell_type": "code",
   "execution_count": 23,
   "metadata": {},
   "outputs": [
    {
     "data": {
      "text/plain": [
       "55.0"
      ]
     },
     "execution_count": 23,
     "metadata": {},
     "output_type": "execute_result"
    }
   ],
   "source": [
    "def binet_fib(n):\n",
    "    result = 1/np.sqrt(5)*(((1+np.sqrt(5))/2)**n)\n",
    "    return round(result,2)\n",
    "\n",
    "binet_fib(10)"
   ]
  },
  {
   "cell_type": "markdown",
   "metadata": {},
   "source": [
    "#### Exercise 8"
   ]
  },
  {
   "cell_type": "code",
   "execution_count": 33,
   "metadata": {},
   "outputs": [
    {
     "data": {
      "text/plain": [
       "array([[2, 8, 8, 8],\n",
       "       [8, 5, 8, 8],\n",
       "       [8, 8, 5, 8],\n",
       "       [8, 8, 8, 3]])"
      ]
     },
     "execution_count": 33,
     "metadata": {},
     "output_type": "execute_result"
    }
   ],
   "source": [
    "def random_trace(size, trace_value):\n",
    "    diag = []\n",
    "    for i in trace_value:\n",
    "        if i == 0: \n",
    "            diag.append([0 for i in range(size)])\n",
    "            continue\n",
    "        total = i\n",
    "        temp = []\n",
    "        for i in range(size-1):\n",
    "            rand_value = np.random.randint(0, total)\n",
    "            temp.append(rand_value)\n",
    "            total -= rand_value\n",
    "        temp.append(total)\n",
    "        diag.append(temp)\n",
    "    new_array = np.diagflat(diag)\n",
    "    final_array = np.where(new_array == 0, np.random.randint(9), new_array)\n",
    "    return final_array\n",
    "    \n",
    "trace_value = [15]\n",
    "random_trace(4, trace_value)"
   ]
  },
  {
   "cell_type": "markdown",
   "metadata": {},
   "source": [
    "#### Exercise 9 "
   ]
  },
  {
   "cell_type": "code",
   "execution_count": 32,
   "metadata": {},
   "outputs": [
    {
     "data": {
      "text/plain": [
       "array([[4, 3],\n",
       "       [0, 1]])"
      ]
     },
     "execution_count": 32,
     "metadata": {},
     "output_type": "execute_result"
    }
   ],
   "source": [
    "def array_det(size, det_value):\n",
    "    diag = []\n",
    "    for i in det_value:\n",
    "        if i == 0: \n",
    "            diag.append([0 for i in range(size)])\n",
    "            continue\n",
    "        total = i\n",
    "        temp = []\n",
    "        for i in range(size-1):\n",
    "            rand_value = np.random.randint(0, total)\n",
    "            temp.append(rand_value)\n",
    "            total -= rand_value\n",
    "        temp.append(total)\n",
    "        diag.append(temp)\n",
    "        new_array = np.array(diag).reshape(2,2)\n",
    "        return new_array\n",
    "        \n",
    "array_det(4,[8])"
   ]
  }
 ],
 "metadata": {
  "kernelspec": {
   "display_name": "Python 3",
   "language": "python",
   "name": "python3"
  },
  "language_info": {
   "codemirror_mode": {
    "name": "ipython",
    "version": 3
   },
   "file_extension": ".py",
   "mimetype": "text/x-python",
   "name": "python",
   "nbconvert_exporter": "python",
   "pygments_lexer": "ipython3",
   "version": "3.8.5"
  }
 },
 "nbformat": 4,
 "nbformat_minor": 4
}
