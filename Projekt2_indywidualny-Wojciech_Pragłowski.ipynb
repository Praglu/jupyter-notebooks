{
 "cells": [
  {
   "cell_type": "markdown",
   "metadata": {},
   "source": [
    "# Projekt 2 - indywidualny"
   ]
  },
  {
   "cell_type": "markdown",
   "metadata": {},
   "source": [
    "## Przegląd Barberów w Gliwicach"
   ]
  },
  {
   "cell_type": "markdown",
   "metadata": {},
   "source": [
    "### Wojciech Pragłowski"
   ]
  },
  {
   "cell_type": "markdown",
   "metadata": {},
   "source": [
    "#### Dane zescrapowane ze strony [booksy.](https://booksy.com/pl-pl/s/barber-shop/12795_gliwice)"
   ]
  },
  {
   "cell_type": "code",
   "execution_count": 1,
   "metadata": {},
   "outputs": [],
   "source": [
    "import requests\n",
    "from bs4 import BeautifulSoup\n",
    "\n",
    "\n",
    "booksy = requests.get(\"https://booksy.com/pl-pl/s/barber-shop/12795_gliwice\")\n",
    "soup = BeautifulSoup(booksy.content, 'html.parser')\n",
    "\n",
    "\n",
    "barber = soup.find_all('h2')\n",
    "text_barber = [i.get_text() for i in barber]\n",
    "barber_names = [i.strip() for i in text_barber]\n",
    "barber_names.pop(-1)\n",
    "\n",
    "rate = soup.find_all('div', attrs={'data-testid':'rank-average'})\n",
    "text_rate = [i.get_text() for i in rate]\n",
    "barber_rate = [i.strip() for i in text_rate]\n",
    "\n",
    "opinions = soup.find_all('div', attrs={'data-testid':'rank-label'})\n",
    "text_opinions = [i.get_text() for i in opinions]\n",
    "replace_opinions = [i.replace('opinii', '') for i in text_opinions]\n",
    "replace_opinions2 = [i.replace('opinie', '') for i in replace_opinions]\n",
    "strip_opinions = [i.strip() for i in replace_opinions2]\n",
    "barber_opinions = [int(i) for i in strip_opinions]\n",
    "\n",
    "prices = soup.find_all('div', attrs={'data-testid':'service-price'})\n",
    "text_prices = [i.get_text() for i in prices]\n",
    "replace_prices = [i.replace('zł', '') for i in text_prices]\n",
    "replace_prices2 = [i.replace(',', '.') for i in replace_prices]\n",
    "replace_prices3 = [i.replace('+', '') for i in replace_prices2]\n",
    "replace_null = [i.replace('Bezpłatna', '0') for i in replace_prices3]\n",
    "replace_space = [i.replace(' ', '') for i in replace_null]\n",
    "strip_prices = [i.strip() for i in replace_space]\n",
    "barber_prices = [float(i) for i in strip_prices]"
   ]
  },
  {
   "cell_type": "code",
   "execution_count": 2,
   "metadata": {},
   "outputs": [
    {
     "data": {
      "text/html": [
       "<div>\n",
       "<style scoped>\n",
       "    .dataframe tbody tr th:only-of-type {\n",
       "        vertical-align: middle;\n",
       "    }\n",
       "\n",
       "    .dataframe tbody tr th {\n",
       "        vertical-align: top;\n",
       "    }\n",
       "\n",
       "    .dataframe thead th {\n",
       "        text-align: right;\n",
       "    }\n",
       "</style>\n",
       "<table border=\"1\" class=\"dataframe\">\n",
       "  <thead>\n",
       "    <tr style=\"text-align: right;\">\n",
       "      <th></th>\n",
       "      <th>Barber's name</th>\n",
       "      <th>Barber's rate</th>\n",
       "      <th>Barber's opinions</th>\n",
       "    </tr>\n",
       "  </thead>\n",
       "  <tbody>\n",
       "    <tr>\n",
       "      <th>0</th>\n",
       "      <td>The POPE Barber SHOP</td>\n",
       "      <td>5,0</td>\n",
       "      <td>2047</td>\n",
       "    </tr>\n",
       "    <tr>\n",
       "      <th>1</th>\n",
       "      <td>Matt BarberShop</td>\n",
       "      <td>4,9</td>\n",
       "      <td>629</td>\n",
       "    </tr>\n",
       "    <tr>\n",
       "      <th>2</th>\n",
       "      <td>Sick Boy Barbershop</td>\n",
       "      <td>5,0</td>\n",
       "      <td>1141</td>\n",
       "    </tr>\n",
       "    <tr>\n",
       "      <th>3</th>\n",
       "      <td>Gentleman Barber Gliwice</td>\n",
       "      <td>4,9</td>\n",
       "      <td>375</td>\n",
       "    </tr>\n",
       "    <tr>\n",
       "      <th>4</th>\n",
       "      <td>Freak Head</td>\n",
       "      <td>5,0</td>\n",
       "      <td>649</td>\n",
       "    </tr>\n",
       "    <tr>\n",
       "      <th>5</th>\n",
       "      <td>WILKOSZ Fryzjerstwo Męskie Barber Shop</td>\n",
       "      <td>4,9</td>\n",
       "      <td>511</td>\n",
       "    </tr>\n",
       "    <tr>\n",
       "      <th>6</th>\n",
       "      <td>VIKING BarberShop&amp;Piercing</td>\n",
       "      <td>5,0</td>\n",
       "      <td>87</td>\n",
       "    </tr>\n",
       "    <tr>\n",
       "      <th>7</th>\n",
       "      <td>Majlo Barber Shop</td>\n",
       "      <td>5,0</td>\n",
       "      <td>176</td>\n",
       "    </tr>\n",
       "    <tr>\n",
       "      <th>8</th>\n",
       "      <td>Lucjan's Barber Shop</td>\n",
       "      <td>5,0</td>\n",
       "      <td>172</td>\n",
       "    </tr>\n",
       "    <tr>\n",
       "      <th>9</th>\n",
       "      <td>Wojnarowska Hair_style</td>\n",
       "      <td>4,9</td>\n",
       "      <td>567</td>\n",
       "    </tr>\n",
       "    <tr>\n",
       "      <th>10</th>\n",
       "      <td>Trendy Hair Fashion &amp; Victoria Day Spa</td>\n",
       "      <td>4,9</td>\n",
       "      <td>894</td>\n",
       "    </tr>\n",
       "    <tr>\n",
       "      <th>11</th>\n",
       "      <td>Studio Urody Beauty Secret Estera Brusiło</td>\n",
       "      <td>4,9</td>\n",
       "      <td>200</td>\n",
       "    </tr>\n",
       "    <tr>\n",
       "      <th>12</th>\n",
       "      <td>Prowokacja Barbara Górniak</td>\n",
       "      <td>5,0</td>\n",
       "      <td>221</td>\n",
       "    </tr>\n",
       "    <tr>\n",
       "      <th>13</th>\n",
       "      <td>Agat Studio Urody</td>\n",
       "      <td>5,0</td>\n",
       "      <td>444</td>\n",
       "    </tr>\n",
       "    <tr>\n",
       "      <th>14</th>\n",
       "      <td>Centrum Urody IMAGE</td>\n",
       "      <td>5,0</td>\n",
       "      <td>209</td>\n",
       "    </tr>\n",
       "    <tr>\n",
       "      <th>15</th>\n",
       "      <td>Mx Salon</td>\n",
       "      <td>5,0</td>\n",
       "      <td>476</td>\n",
       "    </tr>\n",
       "    <tr>\n",
       "      <th>16</th>\n",
       "      <td>Studio Fryzur - Andrzej Kuś</td>\n",
       "      <td>5,0</td>\n",
       "      <td>306</td>\n",
       "    </tr>\n",
       "    <tr>\n",
       "      <th>17</th>\n",
       "      <td>Hair and Beauty Gliwice</td>\n",
       "      <td>4,8</td>\n",
       "      <td>37</td>\n",
       "    </tr>\n",
       "    <tr>\n",
       "      <th>18</th>\n",
       "      <td>KUŹNIA DŻENTELMENÓW BARBER SHOP</td>\n",
       "      <td>5,0</td>\n",
       "      <td>69</td>\n",
       "    </tr>\n",
       "    <tr>\n",
       "      <th>19</th>\n",
       "      <td>WILKOSZ HAIR &amp; BEAUTY  Zwycięstwa 32</td>\n",
       "      <td>4,9</td>\n",
       "      <td>92</td>\n",
       "    </tr>\n",
       "  </tbody>\n",
       "</table>\n",
       "</div>"
      ],
      "text/plain": [
       "                                Barber's name Barber's rate  Barber's opinions\n",
       "0                        The POPE Barber SHOP           5,0               2047\n",
       "1                             Matt BarberShop           4,9                629\n",
       "2                         Sick Boy Barbershop           5,0               1141\n",
       "3                    Gentleman Barber Gliwice           4,9                375\n",
       "4                                  Freak Head           5,0                649\n",
       "5      WILKOSZ Fryzjerstwo Męskie Barber Shop           4,9                511\n",
       "6                  VIKING BarberShop&Piercing           5,0                 87\n",
       "7                           Majlo Barber Shop           5,0                176\n",
       "8                        Lucjan's Barber Shop           5,0                172\n",
       "9                      Wojnarowska Hair_style           4,9                567\n",
       "10     Trendy Hair Fashion & Victoria Day Spa           4,9                894\n",
       "11  Studio Urody Beauty Secret Estera Brusiło           4,9                200\n",
       "12                 Prowokacja Barbara Górniak           5,0                221\n",
       "13                          Agat Studio Urody           5,0                444\n",
       "14                        Centrum Urody IMAGE           5,0                209\n",
       "15                                   Mx Salon           5,0                476\n",
       "16                Studio Fryzur - Andrzej Kuś           5,0                306\n",
       "17                    Hair and Beauty Gliwice           4,8                 37\n",
       "18            KUŹNIA DŻENTELMENÓW BARBER SHOP           5,0                 69\n",
       "19       WILKOSZ HAIR & BEAUTY  Zwycięstwa 32           4,9                 92"
      ]
     },
     "execution_count": 2,
     "metadata": {},
     "output_type": "execute_result"
    }
   ],
   "source": [
    "import pandas as pd\n",
    "\n",
    "barbers = pd.DataFrame(barber_names, columns=[\"Barber's name\"])\n",
    "barbers[\"Barber's rate\"] = barber_rate\n",
    "barbers[\"Barber's opinions\"] = barber_opinions\n",
    "\n",
    "barbers"
   ]
  },
  {
   "cell_type": "code",
   "execution_count": 3,
   "metadata": {},
   "outputs": [],
   "source": [
    "# znalezienie wiarygodnych barberów, czyli takich, którzy mają opinii > 500\n",
    "best_opinions = [i for i in barber_opinions if i > 500]\n",
    "best_indexes = []\n",
    "\n",
    "for amount in barber_opinions:\n",
    "    if amount in best_opinions:\n",
    "        best_indexes.append(barber_opinions.index(amount))\n",
    "\n",
    "best_barbers = [barber_names[i] for i in best_indexes]\n",
    "best_rates = [barber_rate[i] for i in best_indexes]"
   ]
  },
  {
   "cell_type": "code",
   "execution_count": 4,
   "metadata": {},
   "outputs": [
    {
     "name": "stdout",
     "output_type": "stream",
     "text": [
      "[[80.0, 30.0, 125.0], [90.0, 50.0, 65.0], [60.0, 50.0, 50.0], [120.0, 50.0, 40.0], [50.0, 40.0, 40.0], [70.0, 100.0, 0.0], [800.0, 1500.0, 69.0]]\n"
     ]
    }
   ],
   "source": [
    "# połączenie 3 cen dla jednego barbera\n",
    "combined_prices = [barber_prices[i:i+3] for i in range(0, len(barber_prices), 3)]\n",
    "\n",
    "best_prices = [combined_prices[i] for i in best_indexes]\n",
    "print(best_prices)"
   ]
  },
  {
   "cell_type": "code",
   "execution_count": 5,
   "metadata": {},
   "outputs": [
    {
     "data": {
      "text/plain": [
       "[78.33, 68.33, 53.33, 70.0, 43.33, 56.67, 789.67]"
      ]
     },
     "execution_count": 5,
     "metadata": {},
     "output_type": "execute_result"
    }
   ],
   "source": [
    "avg = [sum(i)/len(i) for i in best_prices]\n",
    "avg_price = [round(i,2) for i in avg]\n",
    "avg_price"
   ]
  },
  {
   "cell_type": "code",
   "execution_count": 6,
   "metadata": {},
   "outputs": [
    {
     "data": {
      "text/html": [
       "<div>\n",
       "<style scoped>\n",
       "    .dataframe tbody tr th:only-of-type {\n",
       "        vertical-align: middle;\n",
       "    }\n",
       "\n",
       "    .dataframe tbody tr th {\n",
       "        vertical-align: top;\n",
       "    }\n",
       "\n",
       "    .dataframe thead th {\n",
       "        text-align: right;\n",
       "    }\n",
       "</style>\n",
       "<table border=\"1\" class=\"dataframe\">\n",
       "  <thead>\n",
       "    <tr style=\"text-align: right;\">\n",
       "      <th></th>\n",
       "      <th>Barber's name</th>\n",
       "      <th>Amount of opinions</th>\n",
       "      <th>Barber's rate</th>\n",
       "      <th>Average Barber's prices</th>\n",
       "    </tr>\n",
       "  </thead>\n",
       "  <tbody>\n",
       "    <tr>\n",
       "      <th>0</th>\n",
       "      <td>The POPE Barber SHOP</td>\n",
       "      <td>2047</td>\n",
       "      <td>5,0</td>\n",
       "      <td>78.33</td>\n",
       "    </tr>\n",
       "    <tr>\n",
       "      <th>1</th>\n",
       "      <td>Matt BarberShop</td>\n",
       "      <td>629</td>\n",
       "      <td>4,9</td>\n",
       "      <td>68.33</td>\n",
       "    </tr>\n",
       "    <tr>\n",
       "      <th>2</th>\n",
       "      <td>Sick Boy Barbershop</td>\n",
       "      <td>1141</td>\n",
       "      <td>5,0</td>\n",
       "      <td>53.33</td>\n",
       "    </tr>\n",
       "    <tr>\n",
       "      <th>3</th>\n",
       "      <td>Freak Head</td>\n",
       "      <td>649</td>\n",
       "      <td>5,0</td>\n",
       "      <td>70.00</td>\n",
       "    </tr>\n",
       "    <tr>\n",
       "      <th>4</th>\n",
       "      <td>WILKOSZ Fryzjerstwo Męskie Barber Shop</td>\n",
       "      <td>511</td>\n",
       "      <td>4,9</td>\n",
       "      <td>43.33</td>\n",
       "    </tr>\n",
       "    <tr>\n",
       "      <th>5</th>\n",
       "      <td>Wojnarowska Hair_style</td>\n",
       "      <td>567</td>\n",
       "      <td>4,9</td>\n",
       "      <td>56.67</td>\n",
       "    </tr>\n",
       "    <tr>\n",
       "      <th>6</th>\n",
       "      <td>Trendy Hair Fashion &amp; Victoria Day Spa</td>\n",
       "      <td>894</td>\n",
       "      <td>4,9</td>\n",
       "      <td>789.67</td>\n",
       "    </tr>\n",
       "  </tbody>\n",
       "</table>\n",
       "</div>"
      ],
      "text/plain": [
       "                            Barber's name  Amount of opinions Barber's rate  \\\n",
       "0                    The POPE Barber SHOP                2047           5,0   \n",
       "1                         Matt BarberShop                 629           4,9   \n",
       "2                     Sick Boy Barbershop                1141           5,0   \n",
       "3                              Freak Head                 649           5,0   \n",
       "4  WILKOSZ Fryzjerstwo Męskie Barber Shop                 511           4,9   \n",
       "5                  Wojnarowska Hair_style                 567           4,9   \n",
       "6  Trendy Hair Fashion & Victoria Day Spa                 894           4,9   \n",
       "\n",
       "   Average Barber's prices  \n",
       "0                    78.33  \n",
       "1                    68.33  \n",
       "2                    53.33  \n",
       "3                    70.00  \n",
       "4                    43.33  \n",
       "5                    56.67  \n",
       "6                   789.67  "
      ]
     },
     "execution_count": 6,
     "metadata": {},
     "output_type": "execute_result"
    }
   ],
   "source": [
    "df_best_barber = pd.DataFrame(best_barbers, columns=[\"Barber's name\"])\n",
    "df_best_barber[\"Amount of opinions\"] = best_opinions\n",
    "df_best_barber[\"Barber's rate\"] = best_rates\n",
    "df_best_barber[\"Average Barber's prices\"] = avg_price\n",
    "df_best_barber"
   ]
  },
  {
   "cell_type": "code",
   "execution_count": 7,
   "metadata": {},
   "outputs": [
    {
     "data": {
      "image/png": "[encoded data removed]",
      "text/plain": [
       "<Figure size 432x288 with 1 Axes>"
      ]
     },
     "metadata": {},
     "output_type": "display_data"
    }
   ],
   "source": [
    "import matplotlib.pyplot as plt\n",
    "\n",
    "plt.style.use('ggplot')\n",
    "x = ['POPE', 'Matt', 'Sick', 'Freak', 'WILKOSZ', 'Wojnar', 'Trendy']\n",
    "y = avg_price\n",
    "\n",
    "x_pos = [i for i, _ in enumerate(x)]\n",
    "\n",
    "plt.bar(x_pos, y)\n",
    "plt.ylabel(\"Barbers' prices\")\n",
    "plt.title(\"Barbers in Gliwice & their average prices\")\n",
    "\n",
    "plt.xticks(x_pos, x)\n",
    "plt.show()"
   ]
  },
  {
   "cell_type": "code",
   "execution_count": 8,
   "metadata": {},
   "outputs": [
    {
     "data": {
      "text/plain": [
       "<seaborn.axisgrid.FacetGrid at 0x16e41854d60>"
      ]
     },
     "execution_count": 8,
     "metadata": {},
     "output_type": "execute_result"
    },
    {
     "data": {
      "image/png": "[encoded data removed]",
      "text/plain": [
       "<Figure size 603.375x360 with 1 Axes>"
      ]
     },
     "metadata": {},
     "output_type": "display_data"
    }
   ],
   "source": [
    "import seaborn as sns\n",
    "\n",
    "sns.relplot(x = \"Average Barber's prices\", y = \"Amount of opinions\", hue=\"Barber's name\", data = df_best_barber)"
   ]
  },
  {
   "cell_type": "code",
   "execution_count": null,
   "metadata": {},
   "outputs": [],
   "source": []
  }
 ],
 "metadata": {
  "kernelspec": {
   "display_name": "Python 3",
   "language": "python",
   "name": "python3"
  },
  "language_info": {
   "codemirror_mode": {
    "name": "ipython",
    "version": 3
   },
   "file_extension": ".py",
   "mimetype": "text/x-python",
   "name": "python",
   "nbconvert_exporter": "python",
   "pygments_lexer": "ipython3",
   "version": "3.8.5"
  }
 },
 "nbformat": 4,
 "nbformat_minor": 4
}
