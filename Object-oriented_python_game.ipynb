{
 "cells": [
  {
   "cell_type": "markdown",
   "metadata": {},
   "source": [
    "# Wojciech Pragłowski\n",
    "\n",
    "## Object-oriented tasks"
   ]
  },
  {
   "cell_type": "markdown",
   "metadata": {},
   "source": [
    "### Exercise 1"
   ]
  },
  {
   "cell_type": "markdown",
   "metadata": {},
   "source": [
    "####  1"
   ]
  },
  {
   "cell_type": "code",
   "execution_count": 3,
   "metadata": {},
   "outputs": [
    {
     "name": "stdout",
     "output_type": "stream",
     "text": [
      "Konto: Wojciech, nr_konta: 60 1324 8908 9809 5352 2345, saldo: 10000, kredyt: 0, lokata: 5000\n",
      "Po lokacie:  Konto: Wojciech, nr_konta: 60 1324 8908 9809 5352 2345, saldo: 0, kredyt: 0, lokata: 15000\n",
      "Po kredycie:  Konto: Wojciech, nr_konta: 60 1324 8908 9809 5352 2345, saldo: 4000, kredyt: 4000, lokata: 15000\n",
      "Po przelewie:  Konto: Wojciech, nr_konta: 60 1324 8908 9809 5352 2345, saldo: 3800, kredyt: 4000, lokata: 15000\n"
     ]
    }
   ],
   "source": [
    "class Konto:\n",
    "    def __init__(self, wlasciciel, nr_konta, saldo, kredyt, lokata):\n",
    "        self.wlasciciel = wlasciciel\n",
    "        self.nr_konta = nr_konta\n",
    "        self.saldo = saldo\n",
    "        self.kredyt = kredyt\n",
    "        self.lokata = lokata\n",
    "\n",
    "    def zaloz_lokata(self):\n",
    "        if self.saldo == 0:\n",
    "            print(\"Nie ma funduszy na lokatę!\")\n",
    "        self.lokata += self.saldo\n",
    "        self.saldo = 0\n",
    "\n",
    "    def wez_kredyt(self, o_ile):\n",
    "        self.saldo += o_ile\n",
    "        self.kredyt += o_ile\n",
    "\n",
    "    def przelew(self, kwota):\n",
    "        if kwota <= self.saldo:\n",
    "            self.saldo -= kwota\n",
    "        else:\n",
    "            print(\"Nie ma środków na koncie!\")\n",
    "\n",
    "    def __str__(self):\n",
    "        return 'Konto: {}, nr_konta: {}, saldo: {}, kredyt: {}, lokata: {}'.format(self.wlasciciel, self.nr_konta, self.saldo, self.kredyt, self.lokata)\n",
    "\n",
    "konto_1 = Konto(\"Wojciech\", \"60 1324 8908 9809 5352 2345\", 10000, 0, 5000)\n",
    "print(konto_1)\n",
    "konto_1.zaloz_lokata()\n",
    "print(\"Po lokacie: \", konto_1)\n",
    "konto_1.wez_kredyt(4000)\n",
    "print(\"Po kredycie: \", konto_1)\n",
    "konto_1.przelew(200)\n",
    "print(\"Po przelewie: \", konto_1)"
   ]
  },
  {
   "cell_type": "markdown",
   "metadata": {},
   "source": [
    "#### 2"
   ]
  },
  {
   "cell_type": "code",
   "execution_count": 4,
   "metadata": {},
   "outputs": [
    {
     "name": "stdout",
     "output_type": "stream",
     "text": [
      "Konto: JSON, nr_konta: 60 1292 1231 4353 3542 2342, saldo: 100000, kredyt: -40500, lokata: 500000\n",
      "Przelanie na lokatę z salda 100000zł\n",
      "Wzięto kredyt na 1000zł\n",
      "Przelano na inne konto 300zł\n",
      "None\n",
      "Konto: JSON, nr_konta: 60 1292 1231 4353 3542 2342, saldo: 700, kredyt: -41500, lokata: 600000\n"
     ]
    }
   ],
   "source": [
    "class Konto_VIP(Konto):\n",
    "    historia = \"\"\n",
    "\n",
    "    def __init__(self, wlasciciel, nr_konta, saldo, kredyt, lokata):\n",
    "        super().__init__(wlasciciel, nr_konta, saldo, kredyt, lokata)\n",
    "\n",
    "\n",
    "    def zaloz_lokata(self):\n",
    "        if self.saldo == 0:\n",
    "            print(\"Nie ma funduszy na lokatę!\")\n",
    "        self.lokata += self.saldo\n",
    "        Konto_VIP.historia += \"Przelanie na lokatę z salda {}zł\".format(self.saldo)\n",
    "        self.saldo = 0\n",
    "\n",
    "    def wez_kredyt(self, o_ile):\n",
    "        self.saldo += o_ile\n",
    "        Konto_VIP.historia += \"\\nWzięto kredyt na {}zł\".format(o_ile)\n",
    "        self.kredyt += o_ile\n",
    "\n",
    "    def przelew(self, kwota):\n",
    "        if kwota <= self.saldo:\n",
    "            self.saldo -= kwota\n",
    "            Konto_VIP.historia += \"\\nPrzelano na inne konto {}zł\".format(kwota)\n",
    "        else:\n",
    "            print(\"Nie ma funduszy na koncie!\")\n",
    "\n",
    "    def historia_konta(self):\n",
    "        return print(Konto_VIP.historia)\n",
    "\n",
    "    def __str__(self):\n",
    "        return 'Konto: {}, nr_konta: {}, saldo: {}, kredyt: -{}, lokata: {}'.format(self.wlasciciel, self.nr_konta, self.saldo, self.kredyt, self.lokata)\n",
    "\n",
    "\n",
    "konto_2 = Konto_VIP(\"JSON\", \"60 1292 1231 4353 3542 2342\",\n",
    "                     100000, 40500, 500000)\n",
    "print(konto_2)\n",
    "konto_2.zaloz_lokata()\n",
    "konto_2.wez_kredyt(1000)\n",
    "konto_2.przelew(300)\n",
    "print(konto_2.historia_konta())\n",
    "print(konto_2)"
   ]
  },
  {
   "cell_type": "markdown",
   "metadata": {},
   "source": [
    "### Exercise 2"
   ]
  },
  {
   "cell_type": "markdown",
   "metadata": {},
   "source": [
    "#### Base class"
   ]
  },
  {
   "cell_type": "code",
   "execution_count": 4,
   "metadata": {},
   "outputs": [
    {
     "name": "stdout",
     "output_type": "stream",
     "text": [
      "Champion: xXxdestroyerXxX, level: 1, gold: 0, attack: 10, defense: 5\n",
      "Champion: New_Destroyer, level: 1, gold: 0, attack: 10, defense: 5\n",
      "Welcome to your quest!\n",
      "\n",
      "                 1 - kill a Witch in the cave\n",
      "                 2 - collect 3 bearskins\n",
      "                 3 - work for 1 hour in smithy\n",
      "                 4 - rest\n",
      "Here you can choose your current mission: 2\n",
      "Your level has increased by 2!\n",
      "Collect 3 bearskins!\n",
      "\n",
      "Champion: New_Destroyer, level: 2, gold: 0, attack: 10, defense: 5\n",
      "You went to a training session!\n",
      "\n",
      "                 1 - train your power in attack!\n",
      "                 2 - train your strength in defense!\n",
      "Here you can choose your training session: 2\n",
      "Thanks to hard work your defense increased by 10!\n",
      "\n",
      "Champion: New_Destroyer, level: 2, gold: 0, attack: 10, defense: 15\n"
     ]
    }
   ],
   "source": [
    "class Champion:\n",
    "    bearskins = 0\n",
    "\n",
    "    def __init__(self, nickname, level, gold, attack, defense):\n",
    "        self.nickname = nickname\n",
    "        self.level = level\n",
    "        self.gold = gold\n",
    "        self.attack = attack\n",
    "        self.defense = defense\n",
    "\n",
    "    def set_nickname(self, nickname):\n",
    "        self.nickname = nickname\n",
    "\n",
    "    def do_quest(self):\n",
    "        print(\"Welcome to your quest!\")\n",
    "        print(\"\"\"\n",
    "                 1 - kill a Witch in the cave\n",
    "                 2 - collect 3 bearskins\n",
    "                 3 - work for 1 hour in smithy\n",
    "                 4 - rest\"\"\")\n",
    "        while True:\n",
    "            try:\n",
    "                option = int(input(\"Here you can choose your current mission: \"))\n",
    "                if option == 1:\n",
    "                    self.level += 2\n",
    "                    self.gold += 1000\n",
    "                    print(\"Your level has increased by 2!\\nCollect 1000 gold!\\n\")\n",
    "                    break\n",
    "                elif option == 2:\n",
    "                    self.level += 1\n",
    "                    Champion.bearskins += 3\n",
    "                    print(\"Your level has increased by 2!\\nCollect 3 bearskins!\\n\")\n",
    "                    break\n",
    "                elif option == 3:\n",
    "                    self.gold += 5000\n",
    "                    print(\"You earned 5000 gold because of working for 1 hour!\\n\")\n",
    "                    break\n",
    "                elif option == 4:\n",
    "                    print(\"Without work there is no cake...\\n\")\n",
    "                    break\n",
    "                else:\n",
    "                    print(\"Please insert correct value!\")\n",
    "            except ValueError:\n",
    "                print(\"Please insert an integer number!\")\n",
    "\n",
    "    def training_session(self):\n",
    "        print(\"You went to a training session!\")\n",
    "        print(\"\"\"\n",
    "                 1 - train your power in attack!\n",
    "                 2 - train your strength in defense!\"\"\")\n",
    "        while True:\n",
    "            try:\n",
    "                option = int(input(\"Here you can choose your training session: \"))\n",
    "                if option == 1:\n",
    "                    self.attack += 15\n",
    "                    print(\"By hard work your attack increased by 15!\\n\")\n",
    "                    break\n",
    "                elif option == 2:\n",
    "                    self.defense += 10\n",
    "                    print(\"Thanks to hard work your defense increased by 10!\\n\")\n",
    "                    break\n",
    "                else:\n",
    "                    print(\"Please insert correct option!\")\n",
    "            except ValueError:\n",
    "                print(\"Please insert an integer number!\")\n",
    "\n",
    "    def __str__(self):\n",
    "        return \"Champion: {}, level: {}, gold: {}, attack: {}, defense: {}\".format(self.nickname, self.level, self.gold, self.attack, self.defense)\n",
    "\n",
    "\n",
    "\n",
    "new_champ = Champion(\"xXxdestroyerXxX\", 1, 0, 10, 5)\n",
    "print(new_champ)\n",
    "new_champ.set_nickname(\"New_Destroyer\")\n",
    "print(new_champ)\n",
    "new_champ.do_quest()\n",
    "print(new_champ)\n",
    "new_champ.training_session()\n",
    "print(new_champ)"
   ]
  },
  {
   "cell_type": "markdown",
   "metadata": {},
   "source": [
    "#### Inheriting class"
   ]
  },
  {
   "cell_type": "code",
   "execution_count": 6,
   "metadata": {},
   "outputs": [
    {
     "name": "stdout",
     "output_type": "stream",
     "text": [
      "Super Champion: nowy champ, class: , level: 10, gold: 20000, attack: 50, defense: 50\n",
      "Here you can choose class of your champion!\n",
      "\n",
      "                1 - Mage (good in attack and in defense)\n",
      "                2 - Palladin (huge amount of defense)\n",
      "                3 - Warrior (the strongest character, highest attack)\n",
      "                4 - Thief (very weak, but rich as hell)\n",
      "Choose your destiny: 3\n",
      "Your heart and sword always for Demacia ...\n",
      "Super Champion: nowy champ, class: Warrior, level: 10, gold: 10000, attack: 650, defense: 50\n",
      "You went to a training session!\n",
      "\n",
      "                 1 - train your power in attack!\n",
      "                 2 - train your strength in defense!\n",
      "Here you can choose your training session: 2\n",
      "Thanks to hard work your defense increased by 10!\n",
      "\n",
      "Super Champion: nowy champ, class: Warrior, level: 10, gold: 10000, attack: 650, defense: 60\n"
     ]
    }
   ],
   "source": [
    "class Super_Champion(Champion):\n",
    "    champ_class = \"\"\n",
    "\n",
    "    def __init__(self, nickname, level, gold, attack, defense):\n",
    "        super().__init__(nickname, level, gold, attack, defense)\n",
    "        \n",
    "    def choose_champ_class(self):\n",
    "        print(\"Here you can choose class of your champion!\")\n",
    "        print(\"\"\"\n",
    "                1 - Mage (good in attack and in defense)\n",
    "                2 - Palladin (huge amount of defense)\n",
    "                3 - Warrior (the strongest character, highest attack)\n",
    "                4 - Thief (very weak, but rich as hell)\"\"\")\n",
    "        if self.gold > 10000:\n",
    "            while True:\n",
    "                try:\n",
    "                    option = int(input(\"Choose your destiny: \"))\n",
    "                    self.gold -= 10000\n",
    "                    if option == 1:\n",
    "                        self.attack += 100\n",
    "                        self.defense += 100\n",
    "                        print(\"You're a Wizard Harry!\")\n",
    "                        Super_Champion.champ_class = \"Wizard\"\n",
    "                        break\n",
    "                    elif option == 2:\n",
    "                        self.defense += 1000\n",
    "                        print(\"In the name of Holy Graal!\")\n",
    "                        Super_Champion.champ_class = \"Palladin\"\n",
    "                        break\n",
    "                    elif option == 3:\n",
    "                        self.attack += 600\n",
    "                        print(\"Your heart and sword always for Demacia ...\")\n",
    "                        Super_Champion.champ_class = \"Warrior\"\n",
    "                        break\n",
    "                    elif option == 4:\n",
    "                        self.gold += 100000\n",
    "                        self.attack -= 100\n",
    "                        self.defense = 0\n",
    "                        print(\"You filthy bastard ... \")\n",
    "                        Super_Champion.champ_class = \"Thief\"\n",
    "                        break\n",
    "                    else:\n",
    "                        print(\"Please insert correct integer number!\")\n",
    "                except ValueError:\n",
    "                    print(\"Please insert an integer!\")\n",
    "\n",
    "    def __str__(self):\n",
    "        return \"Super Champion: {}, class: {}, level: {}, gold: {}, attack: {}, defense: {}\".format(self.nickname, Super_Champion.champ_class, self.level, self.gold, self.attack, self.defense)\n",
    "\n",
    "super_champ = Super_Champion(\"nowy champ\", 10, 20000, 50, 50)\n",
    "print(super_champ)\n",
    "super_champ.choose_champ_class()\n",
    "print(super_champ)\n",
    "super_champ.training_session()\n",
    "print(super_champ)"
   ]
  }
 ],
 "metadata": {
  "kernelspec": {
   "display_name": "Python 3",
   "language": "python",
   "name": "python3"
  },
  "language_info": {
   "codemirror_mode": {
    "name": "ipython",
    "version": 3
   },
   "file_extension": ".py",
   "mimetype": "text/x-python",
   "name": "python",
   "nbconvert_exporter": "python",
   "pygments_lexer": "ipython3",
   "version": "3.8.5"
  }
 },
 "nbformat": 4,
 "nbformat_minor": 4
}
