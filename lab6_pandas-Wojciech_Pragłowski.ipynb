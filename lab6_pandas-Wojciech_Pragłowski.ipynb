{
 "cells": [
  {
   "cell_type": "markdown",
   "metadata": {},
   "source": [
    "# Wojciech Pragłowski"
   ]
  },
  {
   "cell_type": "markdown",
   "metadata": {},
   "source": [
    "## laboratorium 6 - pandas"
   ]
  },
  {
   "cell_type": "markdown",
   "metadata": {},
   "source": [
    "### Zadanie 1"
   ]
  },
  {
   "cell_type": "code",
   "execution_count": 10,
   "metadata": {},
   "outputs": [
    {
     "data": {
      "text/html": [
       "<div>\n",
       "<style scoped>\n",
       "    .dataframe tbody tr th:only-of-type {\n",
       "        vertical-align: middle;\n",
       "    }\n",
       "\n",
       "    .dataframe tbody tr th {\n",
       "        vertical-align: top;\n",
       "    }\n",
       "\n",
       "    .dataframe thead th {\n",
       "        text-align: right;\n",
       "    }\n",
       "</style>\n",
       "<table border=\"1\" class=\"dataframe\">\n",
       "  <thead>\n",
       "    <tr style=\"text-align: right;\">\n",
       "      <th></th>\n",
       "      <th>Nazwa zmiennej</th>\n",
       "      <th>Jednostka terytorialna</th>\n",
       "      <th>Sposób prezentacji</th>\n",
       "      <th>Rok</th>\n",
       "      <th>Wartość</th>\n",
       "      <th>Flaga</th>\n",
       "    </tr>\n",
       "  </thead>\n",
       "  <tbody>\n",
       "    <tr>\n",
       "      <th>66</th>\n",
       "      <td>Wskaźnik cen towarów i usług konsumpcyjnych</td>\n",
       "      <td>Polska</td>\n",
       "      <td>Rok poprzedni = 100</td>\n",
       "      <td>2016</td>\n",
       "      <td>99.4</td>\n",
       "      <td>NaN</td>\n",
       "    </tr>\n",
       "    <tr>\n",
       "      <th>67</th>\n",
       "      <td>Wskaźnik cen towarów i usług konsumpcyjnych</td>\n",
       "      <td>Polska</td>\n",
       "      <td>Rok poprzedni = 100</td>\n",
       "      <td>2017</td>\n",
       "      <td>102.0</td>\n",
       "      <td>NaN</td>\n",
       "    </tr>\n",
       "    <tr>\n",
       "      <th>68</th>\n",
       "      <td>Wskaźnik cen towarów i usług konsumpcyjnych</td>\n",
       "      <td>Polska</td>\n",
       "      <td>Rok poprzedni = 100</td>\n",
       "      <td>2018</td>\n",
       "      <td>101.6</td>\n",
       "      <td>NaN</td>\n",
       "    </tr>\n",
       "    <tr>\n",
       "      <th>69</th>\n",
       "      <td>Wskaźnik cen towarów i usług konsumpcyjnych</td>\n",
       "      <td>Polska</td>\n",
       "      <td>Rok poprzedni = 100</td>\n",
       "      <td>2019</td>\n",
       "      <td>102.3</td>\n",
       "      <td>NaN</td>\n",
       "    </tr>\n",
       "    <tr>\n",
       "      <th>70</th>\n",
       "      <td>Wskaźnik cen towarów i usług konsumpcyjnych</td>\n",
       "      <td>Polska</td>\n",
       "      <td>Rok poprzedni = 100</td>\n",
       "      <td>2020</td>\n",
       "      <td>103.4</td>\n",
       "      <td>NaN</td>\n",
       "    </tr>\n",
       "  </tbody>\n",
       "</table>\n",
       "</div>"
      ],
      "text/plain": [
       "                                 Nazwa zmiennej Jednostka terytorialna  \\\n",
       "66  Wskaźnik cen towarów i usług konsumpcyjnych                 Polska   \n",
       "67  Wskaźnik cen towarów i usług konsumpcyjnych                 Polska   \n",
       "68  Wskaźnik cen towarów i usług konsumpcyjnych                 Polska   \n",
       "69  Wskaźnik cen towarów i usług konsumpcyjnych                 Polska   \n",
       "70  Wskaźnik cen towarów i usług konsumpcyjnych                 Polska   \n",
       "\n",
       "     Sposób prezentacji   Rok  Wartość  Flaga  \n",
       "66  Rok poprzedni = 100  2016     99.4    NaN  \n",
       "67  Rok poprzedni = 100  2017    102.0    NaN  \n",
       "68  Rok poprzedni = 100  2018    101.6    NaN  \n",
       "69  Rok poprzedni = 100  2019    102.3    NaN  \n",
       "70  Rok poprzedni = 100  2020    103.4    NaN  "
      ]
     },
     "execution_count": 10,
     "metadata": {},
     "output_type": "execute_result"
    }
   ],
   "source": [
    "import pandas as pd\n",
    "\n",
    "inflacja = pd.read_excel('inflacja.xlsx')\n",
    "inflacja.head()\n",
    "inflacja.tail()"
   ]
  },
  {
   "cell_type": "markdown",
   "metadata": {},
   "source": [
    "#### 1.1"
   ]
  },
  {
   "cell_type": "code",
   "execution_count": 2,
   "metadata": {},
   "outputs": [
    {
     "name": "stdout",
     "output_type": "stream",
     "text": [
      "Najwyższy wskaźnik inflacji:\n",
      " 40    685.8\n",
      "Name: Wartość, dtype: float64\n",
      "\n",
      "Najniższy wskaźnik inflacji:\n",
      " 4    93.7\n",
      "Name: Wartość, dtype: float64\n"
     ]
    }
   ],
   "source": [
    "print(\"Najwyższy wskaźnik inflacji:\\n\", inflacja['Wartość'][inflacja['Wartość'] == max(inflacja['Wartość'])])\n",
    "print(\"\\nNajniższy wskaźnik inflacji:\\n\", inflacja['Wartość'][inflacja['Wartość'] == min(inflacja['Wartość'])])"
   ]
  },
  {
   "cell_type": "markdown",
   "metadata": {},
   "source": [
    "#### 1.2 "
   ]
  },
  {
   "cell_type": "code",
   "execution_count": 3,
   "metadata": {},
   "outputs": [
    {
     "name": "stdout",
     "output_type": "stream",
     "text": [
      "Rok z najwyższym wskaźnikiem inflacji:\n",
      " 40    1990\n",
      "Name: Rok, dtype: int64\n",
      "\n",
      "Rok najniższym wskaźnikiem inflacji:\n",
      " 4    1954\n",
      "Name: Rok, dtype: int64\n"
     ]
    }
   ],
   "source": [
    "print('Rok z najwyższym wskaźnikiem inflacji:\\n', inflacja.Rok[inflacja['Wartość'] == max(inflacja['Wartość'])])\n",
    "print('\\nRok najniższym wskaźnikiem inflacji:\\n', inflacja.Rok[inflacja['Wartość'] == min(inflacja['Wartość'])])"
   ]
  },
  {
   "cell_type": "markdown",
   "metadata": {},
   "source": [
    "#### 1.3"
   ]
  },
  {
   "cell_type": "code",
   "execution_count": 7,
   "metadata": {},
   "outputs": [
    {
     "name": "stdout",
     "output_type": "stream",
     "text": [
      "Lata gdzie inflacja była większa od średniej inflacji:\n",
      " 3     1953\n",
      "32    1982\n",
      "33    1983\n",
      "37    1987\n",
      "38    1988\n",
      "39    1989\n",
      "40    1990\n",
      "41    1991\n",
      "42    1992\n",
      "43    1993\n",
      "44    1994\n",
      "45    1995\n",
      "Name: Rok, dtype: int64\n"
     ]
    }
   ],
   "source": [
    "sum_of_infl = inflacja['Wartość'].tolist()\n",
    "avg = sum(sum_of_infl) / len(sum_of_infl)\n",
    "print(\"Lata gdzie inflacja była większa od średniej inflacji:\\n\", inflacja.Rok[inflacja['Wartość'] > avg])"
   ]
  },
  {
   "cell_type": "markdown",
   "metadata": {},
   "source": [
    "#### 1.wykres"
   ]
  },
  {
   "cell_type": "code",
   "execution_count": 27,
   "metadata": {},
   "outputs": [
    {
     "data": {
      "image/png": "[encoded data removed]",
      "text/plain": [
       "<Figure size 432x288 with 1 Axes>"
      ]
     },
     "metadata": {
      "needs_background": "light"
     },
     "output_type": "display_data"
    }
   ],
   "source": [
    "import matplotlib.pyplot as plt\n",
    "\n",
    "lata = inflacja['Rok'][60:]\n",
    "poziom_inflacji = inflacja['Wartość'][60:]\n",
    "\n",
    "plt.plot(range(11), poziom_inflacji, \"o\")\n",
    "plt.xticks(range(11), lata)\n",
    "plt.title(\"Poziom inflacji na przestrzeni lat 2010-2020\")\n",
    "plt.grid()\n",
    "\n",
    "plt.show()"
   ]
  },
  {
   "cell_type": "markdown",
   "metadata": {},
   "source": [
    "### Zadanie 2"
   ]
  },
  {
   "cell_type": "markdown",
   "metadata": {},
   "source": [
    "#### 1.1"
   ]
  },
  {
   "cell_type": "code",
   "execution_count": 88,
   "metadata": {},
   "outputs": [
    {
     "data": {
      "text/html": [
       "<div>\n",
       "<style scoped>\n",
       "    .dataframe tbody tr th:only-of-type {\n",
       "        vertical-align: middle;\n",
       "    }\n",
       "\n",
       "    .dataframe tbody tr th {\n",
       "        vertical-align: top;\n",
       "    }\n",
       "\n",
       "    .dataframe thead tr th {\n",
       "        text-align: left;\n",
       "    }\n",
       "</style>\n",
       "<table border=\"1\" class=\"dataframe\">\n",
       "  <thead>\n",
       "    <tr>\n",
       "      <th></th>\n",
       "      <th colspan=\"7\" halign=\"left\">Struktura wynagrodzeń brutto według zawodów w październiku danego roku[19][20][21] (w jednostkach zatrudniających powyżej 9 osób)</th>\n",
       "    </tr>\n",
       "    <tr>\n",
       "      <th></th>\n",
       "      <th>Rok</th>\n",
       "      <th>Minimalne wynagrodzenie ustawowe</th>\n",
       "      <th>Decyl pierwszy[22]</th>\n",
       "      <th>Dominanta (najczęstsze wynagrodzenie, wartość modalna)</th>\n",
       "      <th>Decyl piąty (mediana, wynagrodzenie środkowe)[23]</th>\n",
       "      <th>Przeciętne wynagrodzenie</th>\n",
       "      <th>Decyl dziewiąty[24]</th>\n",
       "    </tr>\n",
       "  </thead>\n",
       "  <tbody>\n",
       "    <tr>\n",
       "      <th>0</th>\n",
       "      <td>1999</td>\n",
       "      <td>52800</td>\n",
       "      <td>83467</td>\n",
       "      <td>b.d.</td>\n",
       "      <td>1 486,91</td>\n",
       "      <td>1 800,31</td>\n",
       "      <td>2 969,65</td>\n",
       "    </tr>\n",
       "    <tr>\n",
       "      <th>1</th>\n",
       "      <td>2001</td>\n",
       "      <td>76000</td>\n",
       "      <td>98103</td>\n",
       "      <td>b.d.</td>\n",
       "      <td>1 825,92</td>\n",
       "      <td>2 216,55</td>\n",
       "      <td>3 662,12</td>\n",
       "    </tr>\n",
       "    <tr>\n",
       "      <th>2</th>\n",
       "      <td>2002</td>\n",
       "      <td>80000</td>\n",
       "      <td>93248</td>\n",
       "      <td>b.d.</td>\n",
       "      <td>1 820,73</td>\n",
       "      <td>2 229,80</td>\n",
       "      <td>3 721,87</td>\n",
       "    </tr>\n",
       "    <tr>\n",
       "      <th>3</th>\n",
       "      <td>2004</td>\n",
       "      <td>82400</td>\n",
       "      <td>96102</td>\n",
       "      <td>1 184,30</td>\n",
       "      <td>1 907,61</td>\n",
       "      <td>2 368,52</td>\n",
       "      <td>3 950,51</td>\n",
       "    </tr>\n",
       "    <tr>\n",
       "      <th>4</th>\n",
       "      <td>2006</td>\n",
       "      <td>89910</td>\n",
       "      <td>1 040,67</td>\n",
       "      <td>1 469,09</td>\n",
       "      <td>2 130,43</td>\n",
       "      <td>2 654,13</td>\n",
       "      <td>4 492,21</td>\n",
       "    </tr>\n",
       "    <tr>\n",
       "      <th>5</th>\n",
       "      <td>2008</td>\n",
       "      <td>1 126,00</td>\n",
       "      <td>1 306,78</td>\n",
       "      <td>2 091,35</td>\n",
       "      <td>2 639,51</td>\n",
       "      <td>3 232,07</td>\n",
       "      <td>5 376,33</td>\n",
       "    </tr>\n",
       "    <tr>\n",
       "      <th>6</th>\n",
       "      <td>2010</td>\n",
       "      <td>1 317,00</td>\n",
       "      <td>1 478,70</td>\n",
       "      <td>2 020,13</td>\n",
       "      <td>2 906,78</td>\n",
       "      <td>3 543,50</td>\n",
       "      <td>5 850,66</td>\n",
       "    </tr>\n",
       "    <tr>\n",
       "      <th>7</th>\n",
       "      <td>2012</td>\n",
       "      <td>1 500,00</td>\n",
       "      <td>1 600,00</td>\n",
       "      <td>2 189,11</td>\n",
       "      <td>3 115,11</td>\n",
       "      <td>3 895,72</td>\n",
       "      <td>6 561,59</td>\n",
       "    </tr>\n",
       "    <tr>\n",
       "      <th>8</th>\n",
       "      <td>2014</td>\n",
       "      <td>1 680,00</td>\n",
       "      <td>1 718,00</td>\n",
       "      <td>2 469,47</td>\n",
       "      <td>3 291,56</td>\n",
       "      <td>4 107,72</td>\n",
       "      <td>6 917,23</td>\n",
       "    </tr>\n",
       "    <tr>\n",
       "      <th>9</th>\n",
       "      <td>2016</td>\n",
       "      <td>1 850,00</td>\n",
       "      <td>1 890,32</td>\n",
       "      <td>2 074,03</td>\n",
       "      <td>3 510,67</td>\n",
       "      <td>4 346,76</td>\n",
       "      <td>7 200,00</td>\n",
       "    </tr>\n",
       "    <tr>\n",
       "      <th>10</th>\n",
       "      <td>2018</td>\n",
       "      <td>2 100,00</td>\n",
       "      <td>2 224,17</td>\n",
       "      <td>b.d.</td>\n",
       "      <td>4 094,98</td>\n",
       "      <td>5 003,78</td>\n",
       "      <td>8 239,84</td>\n",
       "    </tr>\n",
       "  </tbody>\n",
       "</table>\n",
       "</div>"
      ],
      "text/plain": [
       "   Struktura wynagrodzeń brutto według zawodów w październiku danego roku[19][20][21] (w jednostkach zatrudniających powyżej 9 osób)  \\\n",
       "                                                                                                                                 Rok   \n",
       "0                                                1999                                                                                  \n",
       "1                                                2001                                                                                  \n",
       "2                                                2002                                                                                  \n",
       "3                                                2004                                                                                  \n",
       "4                                                2006                                                                                  \n",
       "5                                                2008                                                                                  \n",
       "6                                                2010                                                                                  \n",
       "7                                                2012                                                                                  \n",
       "8                                                2014                                                                                  \n",
       "9                                                2016                                                                                  \n",
       "10                                               2018                                                                                  \n",
       "\n",
       "                                                        \\\n",
       "   Minimalne wynagrodzenie ustawowe Decyl pierwszy[22]   \n",
       "0                             52800              83467   \n",
       "1                             76000              98103   \n",
       "2                             80000              93248   \n",
       "3                             82400              96102   \n",
       "4                             89910           1 040,67   \n",
       "5                          1 126,00           1 306,78   \n",
       "6                          1 317,00           1 478,70   \n",
       "7                          1 500,00           1 600,00   \n",
       "8                          1 680,00           1 718,00   \n",
       "9                          1 850,00           1 890,32   \n",
       "10                         2 100,00           2 224,17   \n",
       "\n",
       "                                                           \\\n",
       "   Dominanta (najczęstsze wynagrodzenie, wartość modalna)   \n",
       "0                                                b.d.       \n",
       "1                                                b.d.       \n",
       "2                                                b.d.       \n",
       "3                                            1 184,30       \n",
       "4                                            1 469,09       \n",
       "5                                            2 091,35       \n",
       "6                                            2 020,13       \n",
       "7                                            2 189,11       \n",
       "8                                            2 469,47       \n",
       "9                                            2 074,03       \n",
       "10                                               b.d.       \n",
       "\n",
       "                                                                               \\\n",
       "   Decyl piąty (mediana, wynagrodzenie środkowe)[23] Przeciętne wynagrodzenie   \n",
       "0                                           1 486,91                 1 800,31   \n",
       "1                                           1 825,92                 2 216,55   \n",
       "2                                           1 820,73                 2 229,80   \n",
       "3                                           1 907,61                 2 368,52   \n",
       "4                                           2 130,43                 2 654,13   \n",
       "5                                           2 639,51                 3 232,07   \n",
       "6                                           2 906,78                 3 543,50   \n",
       "7                                           3 115,11                 3 895,72   \n",
       "8                                           3 291,56                 4 107,72   \n",
       "9                                           3 510,67                 4 346,76   \n",
       "10                                          4 094,98                 5 003,78   \n",
       "\n",
       "                        \n",
       "   Decyl dziewiąty[24]  \n",
       "0             2 969,65  \n",
       "1             3 662,12  \n",
       "2             3 721,87  \n",
       "3             3 950,51  \n",
       "4             4 492,21  \n",
       "5             5 376,33  \n",
       "6             5 850,66  \n",
       "7             6 561,59  \n",
       "8             6 917,23  \n",
       "9             7 200,00  \n",
       "10            8 239,84  "
      ]
     },
     "execution_count": 88,
     "metadata": {},
     "output_type": "execute_result"
    }
   ],
   "source": [
    "wynagrodzenia = pd.read_html('https://pl.wikipedia.org/wiki/Przeci%C4%99tne_wynagrodzenie', decimal='.')\n",
    "wynagrodzenia[2]"
   ]
  },
  {
   "cell_type": "markdown",
   "metadata": {},
   "source": [
    "#### 1.2"
   ]
  },
  {
   "cell_type": "code",
   "execution_count": 123,
   "metadata": {},
   "outputs": [
    {
     "data": {
      "text/plain": [
       "[528.0,\n",
       " 760.0,\n",
       " 800.0,\n",
       " 824.0,\n",
       " 899.1,\n",
       " 1126.0,\n",
       " 1317.0,\n",
       " 1500.0,\n",
       " 1680.0,\n",
       " 1850.0,\n",
       " 2100.0]"
      ]
     },
     "execution_count": 123,
     "metadata": {},
     "output_type": "execute_result"
    }
   ],
   "source": [
    "wynagrodzenia_dot = wynagrodzenia[2]['Struktura wynagrodzeń brutto według zawodów w październiku danego roku[19][20][21] (w jednostkach zatrudniających powyżej 9 osób)']['Minimalne wynagrodzenie ustawowe'].apply(lambda x: x.replace(',','.'))\n",
    "wynagrodzenia_space = wynagrodzenia_dot.str.replace(' ','')\n",
    "float_wynagrodzenia = wynagrodzenia_space.astype(float)\n",
    "final = float_wynagrodzenia[0:5]/100\n",
    "rest = float_wynagrodzenia[5:]\n",
    "minimalne_wynagrodzenie = [i for i in final]\n",
    "for i in rest:\n",
    "    minimalne_wynagrodzenie.append(i)\n",
    "minimalne_wynagrodzenie"
   ]
  },
  {
   "cell_type": "code",
   "execution_count": 129,
   "metadata": {},
   "outputs": [
    {
     "data": {
      "text/plain": [
       "[1800.31,\n",
       " 2216.55,\n",
       " 2229.8,\n",
       " 2368.52,\n",
       " 2654.13,\n",
       " 3232.07,\n",
       " 3543.5,\n",
       " 3895.72,\n",
       " 4107.72,\n",
       " 4346.76,\n",
       " 5003.78]"
      ]
     },
     "execution_count": 129,
     "metadata": {},
     "output_type": "execute_result"
    }
   ],
   "source": [
    "przecietne_dot = wynagrodzenia[2]['Struktura wynagrodzeń brutto według zawodów w październiku danego roku[19][20][21] (w jednostkach zatrudniających powyżej 9 osób)']['Przeciętne wynagrodzenie'].apply(lambda x: x.replace(',','.'))\n",
    "przecietne_space = przecietne_dot.str.replace(' ', '')\n",
    "float_przecietne = przecietne_space.astype(float)\n",
    "przecietne_wynagrodzenie = [i for i in float_przecietne]\n",
    "przecietne_wynagrodzenie"
   ]
  },
  {
   "cell_type": "markdown",
   "metadata": {},
   "source": [
    "#### 1.3"
   ]
  },
  {
   "cell_type": "code",
   "execution_count": 169,
   "metadata": {},
   "outputs": [
    {
     "name": "stdout",
     "output_type": "stream",
     "text": [
      "Stosunek wynagrodzeń wynosi 2.6448442554971945\n"
     ]
    },
    {
     "data": {
      "image/png": "[encoded data removed]",
      "text/plain": [
       "<Figure size 432x288 with 1 Axes>"
      ]
     },
     "metadata": {
      "needs_background": "light"
     },
     "output_type": "display_data"
    }
   ],
   "source": [
    "import numpy as np\n",
    "\n",
    "stosunek_wynagrodzen = sum(przecietne_wynagrodzenie)/sum(minimalne_wynagrodzenie)\n",
    "print(\"Stosunek wynagrodzeń wynosi\", stosunek_wynagrodzen)\n",
    "\n",
    "minimalne = 1\n",
    "przecietne = minimalne*stosunek_wynagrodzen\n",
    "x = np.arange(1)\n",
    "bar_width = 0.05\n",
    "\n",
    "fig, ax = plt.subplots()\n",
    "first_bar = ax.bar(x-bar_width/2, minimalne, bar_width, label=\"Minimalne wynagrodzenie\")\n",
    "second_bar = ax.bar(x+bar_width/2, przecietne, bar_width, label=\"Przeciętne wynagrodzenie\")\n",
    "\n",
    "ax.set_title(\"Stosunek minimalnego wynagrodzenia do wynagrodzenia przeciętnego\")\n",
    "ax.legend(loc='center left')\n",
    "ax.set_xticklabels(\"\")\n",
    "plt.show()\n"
   ]
  },
  {
   "cell_type": "code",
   "execution_count": null,
   "metadata": {},
   "outputs": [],
   "source": []
  }
 ],
 "metadata": {
  "kernelspec": {
   "display_name": "Python 3",
   "language": "python",
   "name": "python3"
  },
  "language_info": {
   "codemirror_mode": {
    "name": "ipython",
    "version": 3
   },
   "file_extension": ".py",
   "mimetype": "text/x-python",
   "name": "python",
   "nbconvert_exporter": "python",
   "pygments_lexer": "ipython3",
   "version": "3.8.5"
  }
 },
 "nbformat": 4,
 "nbformat_minor": 4
}
