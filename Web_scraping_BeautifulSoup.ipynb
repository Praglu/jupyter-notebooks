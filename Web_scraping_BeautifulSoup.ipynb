{
 "cells": [
  {
   "cell_type": "markdown",
   "metadata": {},
   "source": [
    "# Wojciech Pragłowski"
   ]
  },
  {
   "cell_type": "markdown",
   "metadata": {},
   "source": [
    "## Web-scraping Silesian University of Technology site"
   ]
  },
  {
   "cell_type": "markdown",
   "metadata": {},
   "source": [
    "### Exercise 1"
   ]
  },
  {
   "cell_type": "code",
   "execution_count": 2,
   "metadata": {},
   "outputs": [],
   "source": [
    "import webbrowser\n",
    "import requests\n",
    "from bs4 import BeautifulSoup\n",
    "\n",
    "polsl = requests.get(\"https://ms.polsl.pl/kzmimsi/pracownicy/\")\n",
    "soup = BeautifulSoup(polsl.content, 'html.parser')"
   ]
  },
  {
   "cell_type": "code",
   "execution_count": 3,
   "metadata": {},
   "outputs": [
    {
     "name": "stdout",
     "output_type": "stream",
     "text": [
      "Professors:  ['prof. dr hab. Mykola Bratiichuk', 'prof. dr hab. inż. Damian Słota', 'prof. dr hab. Orest Artemovych', 'prof. Rytis Maskeliunas', 'prof. dr hab. inż. Radosław Grzymkowski', 'dr hab. inż. Edyta Hetmaniok, prof. PŚ', 'dr hab. inż. Waldemar Hołubowski, prof. PŚ', 'dr hab. inż. Wojciech Kempa, prof. PŚ', 'dr hab. Iwona Nowak, prof. PŚ', 'dr hab. inż. Marcin Woźniak, prof. PŚ'] \n",
      "\n",
      "Doctors:  ['dr Katarzyna Adrianowicz', 'dr inż. Marek Balcer', 'dr inż. Rafał Brociek', 'dr Giacomo Capizzi', 'dr Robertas Damaševičius', 'dr inż. Konrad Kaczmarek', 'dr inż. Adrian Kapczyński', 'dr inż. Jarosław Karcewicz', 'dr inż. Marcin Lawnik', 'dr Ewa Łobos', 'dr Zbigniew Marszałek', 'dr inż. Elwira Mateja-Losa', 'dr Sebastian Pabiasz', 'dr inż. Mariusz Pleszczyński', 'dr inż. Dawid Połap', 'dr inż. Marcin Sobota', 'dr inż. Zdzisław Sroczyński', 'dr inż. Adam Zielonka'] \n",
      "\n",
      "Masters:  ['mgr inż. Arkadiusz Banasik', 'mgr Martyna Kobielnik', 'mgr Hanna Wójtowicz']\n"
     ]
    }
   ],
   "source": [
    "pracownik = soup.find_all('strong', limit=31)\n",
    "pracownicy = [i.get_text() for i in pracownik]\n",
    "\n",
    "profesorowie = [i for i in pracownicy if i.startswith('prof')]\n",
    "profesorowie_polsl = [i for i in pracownicy if i.endswith(' PŚ')]\n",
    "\n",
    "for i in profesorowie_polsl:\n",
    "    profesorowie.append(i)\n",
    "\n",
    "doktorzy = []\n",
    "for i in pracownicy:\n",
    "    if i.startswith('dr') and not i.endswith(' PŚ'):\n",
    "        doktorzy.append(i)\n",
    "        \n",
    "magistrzy = [i for i in pracownicy if i.startswith('mgr')]\n",
    "print(\"Professors: \", profesorowie, \"\\n\\nDoctors: \", doktorzy, \"\\n\\nMasters: \", magistrzy)"
   ]
  },
  {
   "cell_type": "code",
   "execution_count": 22,
   "metadata": {},
   "outputs": [
    {
     "data": {
      "image/png": "[encoded data removed]",
      "text/plain": [
       "<Figure size 432x288 with 1 Axes>"
      ]
     },
     "metadata": {},
     "output_type": "display_data"
    }
   ],
   "source": [
    "import matplotlib.pyplot as plt\n",
    "import numpy as np\n",
    "\n",
    "plt.style.use('ggplot')\n",
    "x = ['Profesorowie', 'Doktorzy', 'Magistrzy']\n",
    "y = [len(profesorowie), len(doktorzy), len(magistrzy)]\n",
    "col = ['red', 'blue', 'green']\n",
    "\n",
    "x_pos = [i for i, _ in enumerate(x)]\n",
    "\n",
    "plt.bar(x_pos, y, color=col)\n",
    "plt.xlabel(\"Podział na stopień naukowy\")\n",
    "plt.ylabel(\"Liczba\")\n",
    "plt.title(\"Pracownicy Katedry\")\n",
    "\n",
    "plt.xticks(x_pos, x)\n",
    "plt.show()"
   ]
  },
  {
   "cell_type": "markdown",
   "metadata": {},
   "source": [
    "### Exercise 2"
   ]
  },
  {
   "cell_type": "code",
   "execution_count": 23,
   "metadata": {},
   "outputs": [
    {
     "data": {
      "text/plain": [
       "['https://rekrutacja.polsl.pl/kierunek/inf-wms/',\n",
       " 'https://rekrutacja.polsl.pl/kierunek/rau_inf_nst/',\n",
       " 'https://rekrutacja.polsl.pl/kierunek/rau_inf_st/',\n",
       " 'https://rekrutacja.polsl.pl/kierunek/rau_informatyka_st/',\n",
       " 'https://rekrutacja.polsl.pl/kierunek/rms_informatyka_st/']"
      ]
     },
     "execution_count": 23,
     "metadata": {},
     "output_type": "execute_result"
    }
   ],
   "source": [
    "page = requests.get(\"https://rekrutacja.polsl.pl/wyszukiwarka-kierunkow-i-stopnia/?pa_kierunek=inf\")\n",
    "polsl_soup = BeautifulSoup(page.content, \"html.parser\")\n",
    "all_a = polsl_soup.find_all('a')\n",
    "\n",
    "linki = [i.get('href') for i in all_a]\n",
    "good_linki = [i for i in linki if i != None]\n",
    "\n",
    "powielone = [i for i in good_linki if i.startswith('https://rekrutacja.polsl.pl/kierunek')]\n",
    "kierunki = []\n",
    "for kierunek in powielone:\n",
    "    if kierunek not in kierunki:\n",
    "        kierunki.append(kierunek)\n",
    "    else:\n",
    "        continue\n",
    "kierunki"
   ]
  },
  {
   "cell_type": "code",
   "execution_count": 24,
   "metadata": {},
   "outputs": [],
   "source": [
    "f = open(r'nowy.html', 'r')\n",
    "s = f.read()\n",
    "new_soup = BeautifulSoup(s, 'html.parser')"
   ]
  },
  {
   "cell_type": "code",
   "execution_count": 26,
   "metadata": {},
   "outputs": [
    {
     "data": {
      "text/plain": [
       "<body><h1 id=\"kierunek0\"><a href=\"https://rekrutacja.polsl.pl/kierunek/inf-wms/\">https://rekrutacja.polsl.pl/kierunek/inf-wms/</a></h1><h1 id=\"kierunek1\"><a href=\"https://rekrutacja.polsl.pl/kierunek/rau_inf_nst/\">https://rekrutacja.polsl.pl/kierunek/rau_inf_nst/</a></h1><h1 id=\"kierunek2\"><a href=\"https://rekrutacja.polsl.pl/kierunek/rau_inf_st/\">https://rekrutacja.polsl.pl/kierunek/rau_inf_st/</a></h1><h1 id=\"kierunek3\"><a href=\"https://rekrutacja.polsl.pl/kierunek/rau_informatyka_st/\">https://rekrutacja.polsl.pl/kierunek/rau_informatyka_st/</a></h1><h1 id=\"kierunek4\"><a href=\"https://rekrutacja.polsl.pl/kierunek/rms_informatyka_st/\">https://rekrutacja.polsl.pl/kierunek/rms_informatyka_st/</a></h1></body>"
      ]
     },
     "execution_count": 26,
     "metadata": {},
     "output_type": "execute_result"
    }
   ],
   "source": [
    "original_tag = new_soup.body\n",
    "original_tag.clear()\n",
    "\n",
    "for i in range(len(kierunki)):\n",
    "    new_tag_p = new_soup.new_tag('h1', id='kierunek'+str(i))\n",
    "    new_tag_a = new_soup.new_tag('a')\n",
    "    new_tag_a.attrs['href'] = kierunki[i]\n",
    "    new_tag_a.append(kierunki[i])\n",
    "    new_tag_p.append(new_tag_a)\n",
    "    original_tag.append(new_tag_p)\n",
    "original_tag"
   ]
  },
  {
   "cell_type": "code",
   "execution_count": 27,
   "metadata": {},
   "outputs": [],
   "source": [
    "html = new_soup.prettify('utf-8')\n",
    "\n",
    "with open('kierunki.html', 'wb') as file:\n",
    "    file.write(html)"
   ]
  }
 ],
 "metadata": {
  "kernelspec": {
   "display_name": "Python 3",
   "language": "python",
   "name": "python3"
  },
  "language_info": {
   "codemirror_mode": {
    "name": "ipython",
    "version": 3
   },
   "file_extension": ".py",
   "mimetype": "text/x-python",
   "name": "python",
   "nbconvert_exporter": "python",
   "pygments_lexer": "ipython3",
   "version": "3.8.5"
  }
 },
 "nbformat": 4,
 "nbformat_minor": 4
}
